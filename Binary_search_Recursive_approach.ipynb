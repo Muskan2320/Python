{
  "nbformat": 4,
  "nbformat_minor": 0,
  "metadata": {
    "colab": {
      "provenance": [],
      "authorship_tag": "ABX9TyOqVNJakwShREwMuaTpMIi7",
      "include_colab_link": true
    },
    "kernelspec": {
      "name": "python3",
      "display_name": "Python 3"
    },
    "language_info": {
      "name": "python"
    }
  },
  "cells": [
    {
      "cell_type": "markdown",
      "metadata": {
        "id": "view-in-github",
        "colab_type": "text"
      },
      "source": [
        "<a href=\"https://colab.research.google.com/github/Muskan2320/Python/blob/main/Binary_search_Recursive_approach.ipynb\" target=\"_parent\"><img src=\"https://colab.research.google.com/assets/colab-badge.svg\" alt=\"Open In Colab\"/></a>"
      ]
    },
    {
      "cell_type": "markdown",
      "source": [
        "**Binary search** - Recursive approach"
      ],
      "metadata": {
        "id": "kjqS4TCK39fb"
      }
    },
    {
      "cell_type": "code",
      "execution_count": null,
      "metadata": {
        "colab": {
          "base_uri": "https://localhost:8080/"
        },
        "id": "iAxOOEyC0zrf",
        "outputId": "c1c1af23-83cb-4457-9159-3adc86094b4b"
      },
      "outputs": [
        {
          "output_type": "stream",
          "name": "stdout",
          "text": [
            "Enter number of elements: 5\n",
            "Enter num: 34\n",
            "Enter num: 25\n",
            "Enter num: 47\n",
            "Enter num: 8\n",
            "Enter num: 57\n",
            "Sorted list:  [8, 25, 34, 47, 57]\n",
            "Enter number to be find: 47\n",
            "Position: 4\n"
          ]
        }
      ],
      "source": [
        "def binary(start, end, List, find):\n",
        "  if start <= end:\n",
        "\n",
        "    mid = (start+end)//2\n",
        "\n",
        "    if List[mid]==find:\n",
        "      return mid + 1\n",
        "\n",
        "    elif List[mid] > find:\n",
        "      end = mid - 1\n",
        "      return binary(start, end, List, find)\n",
        "\n",
        "    elif List[mid] < find:\n",
        "      start = mid + 1\n",
        "      return binary(start, end, List, find)\n",
        "\n",
        "  else:\n",
        "    return -1\n",
        "\n",
        "x = int(input(\"Enter number of elements: \"))\n",
        "\n",
        "L = []\n",
        "for i in range(x):\n",
        "  L.append(int(input(\"Enter num: \")))\n",
        "\n",
        "L.sort()\n",
        "print(\"Sorted list: \",L)\n",
        "y = int(input(\"Enter number to be find: \"))\n",
        "\n",
        "pos = binary(0, x-1, L, y)\n",
        "if pos==-1:\n",
        "  print(\"Not found\")\n",
        "else:\n",
        "  print(\"Position:\",pos)"
      ]
    }
  ]
}