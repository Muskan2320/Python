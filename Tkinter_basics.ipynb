{
 "cells": [
  {
   "cell_type": "code",
   "execution_count": null,
   "id": "9741e921",
   "metadata": {},
   "outputs": [],
   "source": [
    "# Tkinter is Python GUI framework. Python with tkinter is the fastest and easiest way to create the GUI applications.\n",
    "# Tkinter is lightweight and relatively painless to use compared to other frameworks."
   ]
  },
  {
   "cell_type": "code",
   "execution_count": 2,
   "id": "c7370622",
   "metadata": {},
   "outputs": [],
   "source": [
    "import tkinter as tk"
   ]
  },
  {
   "cell_type": "code",
   "execution_count": 3,
   "id": "0a3c2e55",
   "metadata": {},
   "outputs": [],
   "source": [
    "window = tk.Tk()               # Create window\n",
    "window.title(\"First day\")      # It gives the name to the window\n",
    "window.mainloop()            # Continuously display the window in loop\n",
    "# You can either manually close the window or execute window.destroy() command to destroy the window"
   ]
  },
  {
   "cell_type": "code",
   "execution_count": 3,
   "id": "e265dd4b",
   "metadata": {},
   "outputs": [],
   "source": [
    "# Adding widgets to the window\n",
    "# Labels, buttons, text on the window are called widgets"
   ]
  },
  {
   "cell_type": "code",
   "execution_count": null,
   "id": "0f1c975a",
   "metadata": {},
   "outputs": [],
   "source": [
    "# ADDING LABEL"
   ]
  },
  {
   "cell_type": "code",
   "execution_count": 31,
   "id": "70478951",
   "metadata": {},
   "outputs": [],
   "source": [
    "hello = tk.Label(text=\"Hi everyone\")   # Displaying text on window\n",
    "hello.pack()                           # 'hello' widget is created earlier is displayed on window using pack() command\n",
    "# pack() command shortens the size of window such that it encloses the text/widget\n",
    "\n",
    "window.mainloop()"
   ]
  },
  {
   "cell_type": "code",
   "execution_count": 4,
   "id": "1cc69474",
   "metadata": {},
   "outputs": [
    {
     "name": "stdout",
     "output_type": "stream",
     "text": [
      "Hi\n",
      "Hey\n"
     ]
    }
   ],
   "source": [
    "# retrieve the text of label widget\n",
    "lbl = tk.Label(text=\"Hi\")\n",
    "lbl.pack()\n",
    "\n",
    "mess = lbl[\"text\"]                     # Text of label retrieved\n",
    "print(mess)\n",
    "\n",
    "lbl[\"text\"] = \"Hey\"                    # Text of label changed\n",
    "mess = lbl[\"text\"]                     \n",
    "print(mess)\n",
    "\n",
    "window.mainloop()"
   ]
  },
  {
   "cell_type": "code",
   "execution_count": 27,
   "id": "cee4d531",
   "metadata": {},
   "outputs": [],
   "source": [
    "# Adding a colourful text\n",
    "\n",
    "new = tk.Label(text=\"Learning tkinter\", foreground=\"White\", background=\"Purple\")\n",
    "new.pack()\n",
    "\n",
    "# foreground sets the text color this can also be abbrivated as fg\n",
    "# background sets the background color of text this can also be abbrivated as bg\n",
    "# new = tk.Label(text=\"Learning tkinter\", fg=\"White\", bg=\"Purple\")\n",
    "# Numerous colors available are red, orange, yellow, black, white, green blue, purple.\n",
    "# You can also use the hexadecimal RGB values to set the color"
   ]
  },
  {
   "cell_type": "code",
   "execution_count": 36,
   "id": "98d6bc61",
   "metadata": {},
   "outputs": [],
   "source": [
    "# Control height and widhth of the label\n",
    "\n",
    "new = tk.Label(text=\"Hello!\", fg=\"White\", bg=\"Purple\", height=5, width=5)\n",
    "new.pack()\n",
    "# new.grid()           # It displays Label in grid like manner"
   ]
  },
  {
   "cell_type": "code",
   "execution_count": null,
   "id": "9a2a3dfb",
   "metadata": {},
   "outputs": [],
   "source": [
    "# ADDING BUTTON"
   ]
  },
  {
   "cell_type": "code",
   "execution_count": 39,
   "id": "97477ae9",
   "metadata": {},
   "outputs": [],
   "source": [
    "button = tk.Button(text=\"Click\", width = 6, height = 3, fg = 'White', bg = 'Orange')\n",
    "button.pack()"
   ]
  },
  {
   "cell_type": "code",
   "execution_count": 82,
   "id": "2f00b3ef",
   "metadata": {},
   "outputs": [
    {
     "name": "stdout",
     "output_type": "stream",
     "text": [
      "Clicked\n"
     ]
    }
   ],
   "source": [
    "# some other parameters available in button\n",
    "\n",
    "def click():\n",
    "    print(\"Clicked\")\n",
    "    \n",
    "button = tk.Button(text=\"Click\", width = 6, height = 3, fg = 'White', bg = 'Orange', activebackground = 'green', \n",
    "                   command=click)\n",
    "button.pack()\n",
    "window.mainloop()\n",
    "# activebackground sets the background color when button is pressed\n",
    "# activeforeground sets the foreground color when button is pressed\n",
    "# command is used to call a function when button is pressed\n",
    "# font sets the font on the button label\n",
    "# image sets the image on the button"
   ]
  },
  {
   "cell_type": "code",
   "execution_count": null,
   "id": "0f5d52ae",
   "metadata": {},
   "outputs": [],
   "source": [
    "# ENTRY WIDGET - INPUT FROM USER\n",
    "# Entry is a text entry widget that allows only a single line of text"
   ]
  },
  {
   "cell_type": "code",
   "execution_count": 4,
   "id": "3715da32",
   "metadata": {},
   "outputs": [
    {
     "name": "stdout",
     "output_type": "stream",
     "text": [
      "I am good\n",
      "Are you fine\n"
     ]
    }
   ],
   "source": [
    "def retrieve_entry():\n",
    "    book = inp.get()          # get() function is used to retrieve the data entered by the user\n",
    "    print(book)\n",
    "    \n",
    "lab = tk.Label(text=\"What is your favourite book\", fg = 'Blue')\n",
    "inp = tk.Entry(fg = 'White', bg = 'Black', width = 20)\n",
    "get_entry = tk.Button(text='Submit', fg = 'White', bg = 'green', command = retrieve_entry)\n",
    "lab.pack()\n",
    "inp.pack()\n",
    "get_entry.pack()\n",
    "window.mainloop()\n",
    "# NOTE: Widgets will be displayed in the sequence they are packed to the window"
   ]
  },
  {
   "cell_type": "code",
   "execution_count": 27,
   "id": "7d9d0154",
   "metadata": {},
   "outputs": [
    {
     "name": "stdout",
     "output_type": "stream",
     "text": [
      "Wings of Fire\n"
     ]
    }
   ],
   "source": [
    "# GRID used to display data in grid like manner (It can replace pack())\n",
    "# Insert and delete some data from the entry\n",
    "\n",
    "lab = tk.Label(text=\"What is your favourite book\", fg = 'Blue')\n",
    "ent = tk.Entry(fg = 'White', bg = 'Black', width = 20)\n",
    "lab.grid(row=0)\n",
    "ent.grid(row=0,column=1)\n",
    "\n",
    "ent.insert(0, \"Wings of Fire\")          # Inserting \"Wings of Fire\" at the 0th position of entry\n",
    "get_input = ent.get()                   # Retrieving the inserted data\n",
    "print(get_input)\n",
    "ent.delete(0)                           # Deleting the character at 0th position('W') in the entry \n",
    "ent.delete(0,3)                         # Deleting first three characters('i','n','g') i.e.0-2 excluding index 3\n",
    "# inp.delete(0,tk.END)                  # Deleting the whole entry\n",
    "\n",
    "window.mainloop()"
   ]
  },
  {
   "cell_type": "code",
   "execution_count": null,
   "id": "7c047fa0",
   "metadata": {},
   "outputs": [],
   "source": [
    "# TEXT WIDGET\n",
    "# Entry allow only single line of entry but text allows you to add multiple lines of text"
   ]
  },
  {
   "cell_type": "code",
   "execution_count": 28,
   "id": "28bfcaca",
   "metadata": {},
   "outputs": [],
   "source": [
    "text_box = tk.Text(bg = 'pink')         # Every time you press enter you shifts to new line\n",
    "text_box.pack()\n",
    "\n",
    "window.mainloop()"
   ]
  },
  {
   "cell_type": "code",
   "execution_count": 25,
   "id": "fe72385a",
   "metadata": {},
   "outputs": [
    {
     "name": "stdout",
     "output_type": "stream",
     "text": [
      "H\n",
      "What'\n"
     ]
    }
   ],
   "source": [
    "# Inserting, retrieving and deleting data from Text widget\n",
    "\n",
    "text_box = tk.Text(bg = 'pink')        \n",
    "text_box.pack()\n",
    "\n",
    "# insert(position, text) -> position further contain information of line number and position of cursor\n",
    "# Ex, insert('3.2',\"Hello\") -> In line 3 at position 2, \"Hello\" is inserted\n",
    "# You see the text appearing in same line if you want them to appear in new line then add '\\n' i.e. new line\n",
    "text_box.insert('1.0',\"Hey\\n\")                      \n",
    "text_box.insert('2.0',\"What's up\\n\")\n",
    "text_box.insert('3.0',\"Everything fine ?\")\n",
    "# Lines given below will appear in one line as they don't contain '\\n'\n",
    "# text_box.insert('1.0',\"Hey\")                      \n",
    "# text_box.insert('2.0',\"What's up\")\n",
    "# text_box.insert('3.0',\"Everything fine ?\")\n",
    "\n",
    "# retrieve data using get\n",
    "# NOTE: In text widget you cannot retrieve data without passing arguement to get() function\n",
    "# For retrieving the whole text use command print(text_box.get(\"1.0\",tk.END))\n",
    "print(text_box.get(\"1.0\"))              # getting single character from text (here: first character of first line)\n",
    "print(text_box.get(\"2.0\",\"2.5\"))        # getting multiple character from text (here: first 5 character of second line)\n",
    "\n",
    "# deleting \n",
    "text_box.delete(\"1.0\")                  # deleting single character from text (here: first character of first line)\n",
    "text_box.delete(\"1.0\",\"1.4\")            # deleting multiple character from text (here: first 4 character of first line)\n",
    "\n",
    "# appending a new line at the end\n",
    "text_box.insert(tk.END,\"\\nInserting new line\")\n",
    "\n",
    "window.mainloop()"
   ]
  },
  {
   "cell_type": "code",
   "execution_count": null,
   "id": "856f5952",
   "metadata": {},
   "outputs": [],
   "source": [
    "# FRAME WIDGET\n",
    "# It acts as a container to hold the widgets. It is used for grouping and organizing the widgets."
   ]
  },
  {
   "cell_type": "code",
   "execution_count": 15,
   "id": "ae3b4166",
   "metadata": {},
   "outputs": [
    {
     "name": "stdout",
     "output_type": "stream",
     "text": [
      "Right color\n",
      "Right color\n",
      "Wrong color\n",
      "Wrong color\n"
     ]
    }
   ],
   "source": [
    "def right_color():\n",
    "    print(\"Right color\")\n",
    "    \n",
    "    \n",
    "def wrong_color():\n",
    "    print(\"Wrong color\")\n",
    "    \n",
    "\n",
    "frame1 = tk.Frame()\n",
    "frame2 = tk.Frame()\n",
    "\n",
    "# Label, Button, Entry, and Text  all have a master attribute that can control which Frame a widget is assigned to.\n",
    "txt_frm = tk.Label(master=frame1, text=\"Click on blue color\")\n",
    "txt_frm.pack()\n",
    "\n",
    "redbutton = tk.Button(master = frame2, height = 10, width = 25, bg ='red', command = wrong_color)\n",
    "redbutton.grid(row=2, column=1)\n",
    "greenbutton = tk.Button(master = frame2, height = 10, width = 25, bg='brown', command = wrong_color)\n",
    "greenbutton.grid(row=2, column=2)\n",
    "bluebutton = tk.Button(master = frame2, height = 10, width = 25, bg ='blue', command = right_color)\n",
    "bluebutton.grid(row=2, column=3)\n",
    "blackbutton = tk.Button(master = frame2, height = 10, width = 25, bg ='black', command = wrong_color)\n",
    "blackbutton.grid(row=2, column=4)\n",
    "\n",
    "frame1.pack()\n",
    "frame2.pack()\n",
    "\n",
    "window.mainloop()"
   ]
  },
  {
   "cell_type": "code",
   "execution_count": 25,
   "id": "bda8fcdb",
   "metadata": {},
   "outputs": [],
   "source": [
    "# Adjusting the frame appearance -> It is done using relief parameter. \n",
    "# This parameter gives different effects to the frmae borders.\n",
    "\n",
    "border_effects = { 'flat':tk.FLAT, 'sunken':tk.SUNKEN, 'raised':tk.RAISED, 'groove':tk.GROOVE, 'ridge':tk.RIDGE }\n",
    "\n",
    "# tk.FLAT: Has no border effect (the default value)\n",
    "# tk.SUNKEN: Creates a sunken effect\n",
    "# tk.RAISED: Creates a raised effect\n",
    "# tk.GROOVE: Creates a grooved(a long, narrow cut or depression) border effect\n",
    "# tk.RIDGE: Creates a ridged(a long narrow hilltop, mountain range) effect\n",
    "\n",
    "for relief_name, relief in border_effects.items():\n",
    "    frame = tk.Frame(relief = relief, borderwidth = 5)\n",
    "    frame.pack(side=tk.LEFT)\n",
    "    # pack has the side arguement which is used to place to frame. \n",
    "    # side arguement can have value tk.LEFT, tk.RIGHT, tk.BOTTOM, tk.TOP\n",
    "    # Ex. tk.TOP -> It place new widgets on the topsmost position of the window that isn’t already occupied by a widget.\n",
    "    \n",
    "    label = tk.Label(master = frame, height = 10, width = 10, text = relief_name)\n",
    "    label.pack()\n",
    "    \n",
    "window.mainloop()"
   ]
  },
  {
   "cell_type": "code",
   "execution_count": 8,
   "id": "3dfabaea",
   "metadata": {},
   "outputs": [],
   "source": [
    "# SCROLLBAR & LISTBOX\n",
    "# Scrollbar refers to the slide controller which will be used to implement listed widgets.\n",
    "# Listbox offers a list to the user from which the user can accept any number of options.\n",
    "\n",
    "scroll = tk.Scrollbar()                        # Adding a scrollbar\n",
    "scroll.pack(side = tk.RIGHT, fill = tk.Y)      # side decides the position of scrollbar\n",
    "\n",
    "lbl = tk.Label(text = \"Material required for Cake\")\n",
    "lbl.pack()\n",
    "\n",
    "lb = tk.Listbox(yscrollcommand = scroll.set)  # Making a listbox with scrolling in vertical direction\n",
    "lb.insert(1,\"Flour\")                          # insert(position, item) -> Inserting items in list \n",
    "lb.insert(2,\"Eggs\")\n",
    "lb.insert(3,\"Butter\")\n",
    "lb.insert(4,\"Sugar\")\n",
    "lb.insert(5,\"Salt\")\n",
    "lb.insert(6,\"Milk\")\n",
    "lb.insert(7,\"Baking soda\")\n",
    "lb.pack()\n",
    "\n",
    "window.mainloop()"
   ]
  },
  {
   "cell_type": "code",
   "execution_count": 15,
   "id": "83ccf51f",
   "metadata": {},
   "outputs": [],
   "source": [
    "# PANNED WINDOW - COMBINING TWO WIDGETS (SPINBOX AND SCALE)\n",
    "# Panned Window is a container widget which is used to handle number of panes arranged in it.\n",
    "# Spinbox is an entry of ‘Entry’ widget. Here, value can be input by selecting a fixed value of numbers.\n",
    "# Scale is used to provide a graphical slider that allows to select any value from that scale.\n",
    "\n",
    "pw = tk.PanedWindow()\n",
    "pw.pack()\n",
    "\n",
    "left = tk.Spinbox(master=pw, from_=0, to=15)\n",
    "pw.add(left)                                                                # Adding spinbox to panned window\n",
    "\n",
    "right = tk.Scale(master=pw, from_=0, to=15, orient = tk.HORIZONTAL)         # It's orientation is by default vertical. \n",
    "pw.add(right)\n",
    "\n",
    "window.mainloop()"
   ]
  },
  {
   "cell_type": "code",
   "execution_count": null,
   "id": "98015a2e",
   "metadata": {},
   "outputs": [],
   "source": [
    "# LAYOUT GEOMETRY\n",
    "# Three methods for placing widgets in desired geometry:\n",
    "# 1. pack() \n",
    "# 2. grid()\n",
    "# 3. place()"
   ]
  },
  {
   "cell_type": "code",
   "execution_count": null,
   "id": "9b0c7188",
   "metadata": {},
   "outputs": [],
   "source": [
    "# PACK: pack() uses a packing algorithm to place widgets in a Frame or window in a specified order.\n",
    "# It computes a rectangular area called a parcel that’s just tall (or wide) enough to hold the widget \n",
    "# and fills the remaining width (or height) in the window with blank space.\n",
    "# It centers the widget in the parcel unless a different location is specified. "
   ]
  },
  {
   "cell_type": "code",
   "execution_count": 41,
   "id": "3bf1036d",
   "metadata": {},
   "outputs": [],
   "source": [
    "frame1 = tk.Frame(height = 30, width = 30, bg = 'green')\n",
    "frame1.pack(fill = tk.X, pady=2)           \n",
    "# frame1.pack(fill = tk.Y, side = tk.LEFT)\n",
    "# frame1.pack(fill = tk.BOTH, side = tk.LEFT, expand = True)\n",
    "\n",
    "frame2 = tk.Frame(height = 30, width = 30, bg = 'pink')\n",
    "frame2.pack(fill = tk.X, pady=2)\n",
    "# frame2.pack(fill = tk.Y, side = tk.LEFT)\n",
    "# frame2.pack(fill = tk.BOTH, side = tk.LEFT, expand = True)\n",
    "\n",
    "frame3 = tk.Frame(height = 30, width = 30, bg = 'blue')\n",
    "frame3.pack(fill = tk.X, pady=2)\n",
    "# frame3.pack(fill = tk.Y, side = tk.LEFT)\n",
    "# frame3.pack(fill = tk.BOTH, side = tk.LEFT, expand = True)\n",
    "\n",
    "# fill arguement: fill argument specify in which direction the frames should fill. It is responsive to window resizing. \n",
    "# It can take three value tk.X(i.e. expand in X direction), tk.Y(i.e. expand in Y direction) and \n",
    "# tk.BOTH(i.e. expand in both X and Y direction) \n",
    "# Ex. tk.X -> It makes the X direction responsive i.e. all the colors streches in X direction\n",
    "# pady arguement adds blank space in vertical direction around widget. \n",
    "# Similalry, we have padx to add blank spcae in horizontal direction around widget.\n",
    "\n",
    "window.mainloop()"
   ]
  },
  {
   "cell_type": "code",
   "execution_count": null,
   "id": "0f258ff5",
   "metadata": {},
   "outputs": [],
   "source": [
    "# GRID: grid() works by splitting a window or frame into rows and columns. Both row and column start from zero \n",
    "# i.e. row=0 and column=0 represent the first column\n",
    "# To add some space around each frame, you can set the padding of each cell in the grid. \n",
    "# Padding is just some blank space that surrounds a widget and visually sets its content apart.\n",
    "# The two types of padding are external and internal padding. \n",
    "# External padding adds some space around the outside of a grid cell.\n",
    "# Padding is done using two arguements padx and pady. Padding is measured in pixels."
   ]
  },
  {
   "cell_type": "code",
   "execution_count": 54,
   "id": "c9daa414",
   "metadata": {},
   "outputs": [],
   "source": [
    "for i in range(2):\n",
    "    for j in range(2):\n",
    "        frm = tk.Frame(relief = tk.RAISED, borderwidth=1)\n",
    "        frm.grid(row=i, column=j, padx=3, pady=3)\n",
    "        \n",
    "        label = tk.Label(master=frm, text=f\"Row{i}\\nColumn{j}\")\n",
    "        label.pack()\n",
    "        \n",
    "window.mainloop()"
   ]
  },
  {
   "cell_type": "code",
   "execution_count": 56,
   "id": "9dd6f1bf",
   "metadata": {},
   "outputs": [],
   "source": [
    "# Expanding grid as window resizes\n",
    "# It is done by using columnconfigure() and rowconfigure() on the window object \n",
    "# to adjust how the rows and columns of the grid grow as the window is resized. \n",
    "# Both has three arguements that are Index, Weight and Minimum size.\n",
    "# Index: Index of rows or column or list of rows or columns you want to expand.\n",
    "# Weight: It determines how the column or row should respond to window resizing, relative to the other columns and rows.\n",
    "# Minimum Size(minsize): It sets the minimum size of the row height or column width in pixels\n",
    "\n",
    "window = tk.Tk()\n",
    "\n",
    "for i in range(2):\n",
    "    window.columnconfigure(i, weight = 1, minsize = 50)   # weight = 1 implies all grow at same rate\n",
    "    window.rowconfigure(i, weight = 1, minsize = 50)   # If weight = 2 then second column expands at twice the rate of the first\n",
    "    \n",
    "    for j in range(2):\n",
    "        frm = tk.Frame(relief = tk.RAISED, borderwidth=1)\n",
    "        frm.grid(row=i, column=j, padx=3, pady=3)\n",
    "        \n",
    "        label = tk.Label(master=frm, text=f\"Row{i}\\nColumn{j}\")\n",
    "        label.pack()\n",
    "        \n",
    "window.mainloop()"
   ]
  },
  {
   "cell_type": "code",
   "execution_count": null,
   "id": "ef505f7c",
   "metadata": {},
   "outputs": [],
   "source": [
    "# By default widgets are placed at the centre if you want to change their position then use arguement sticky. \n",
    "# It has four values: \n",
    "# \"n\" or \"N\" to align to the top-center part of the cell\n",
    "# \"e\" or \"E\" to align to the right-center side of the cell\n",
    "# \"s\" or \"S\" to align to the bottom-center part of the cell\n",
    "# \"w\" or \"W\" to align to the left-center side of the cell\n",
    "# It is quite similar to the fill arguement in pack(). \n",
    "# grid()             pack()\n",
    "# sticky=\"ns\"    ->  fill=tk.Y\n",
    "# sticky=\"ew\"    ->  fill=tk.X\n",
    "# sticky=\"nsew\"  ->  fill=tk.BOTH"
   ]
  },
  {
   "cell_type": "code",
   "execution_count": 142,
   "id": "8d71b3d6",
   "metadata": {},
   "outputs": [],
   "source": [
    "lbl = tk.Label(text=\"Choose you favourite fruit(s)\")\n",
    "lbl.grid(row=0)\n",
    "\n",
    "# CHECKBUTTON:It is used to select any number of options by displaying a number of options to a user as toggle buttons.\n",
    "# Similarly, we have Radiobutton in which we can only select one option.\n",
    "mango_btn = tk.Checkbutton(text='Mango')\n",
    "mango_btn.grid(row=1, sticky = \"nw\")\n",
    "\n",
    "apple_btn = tk.Checkbutton(text='Apple')\n",
    "apple_btn.grid(row=2, sticky = \"nw\")\n",
    "\n",
    "guava_btn = tk.Checkbutton(text='Guava')\n",
    "guava_btn.grid(row=3, sticky = \"nw\")\n",
    "\n",
    "lichi_btn = tk.Checkbutton(text='Lichi')\n",
    "lichi_btn.grid(row=4, sticky = \"nw\")\n",
    "\n",
    "window.mainloop()"
   ]
  },
  {
   "cell_type": "code",
   "execution_count": null,
   "id": "5c8825fb",
   "metadata": {},
   "outputs": [],
   "source": [
    "# PLACE: Used to control the precise location that a widget should occupy in a window or Frame.\n",
    "# It has two arguments x and y, in which x and y-coordinates are specified for any place of the widget. \n",
    "# Both x and y are measured in pixels.\n",
    "# For x=0 and y=0 (i.e. origin) is the top-left corner of the frame or window.\n",
    "# Layouts created with .place() aren’t responsive."
   ]
  },
  {
   "cell_type": "code",
   "execution_count": 127,
   "id": "5b18cb5b",
   "metadata": {},
   "outputs": [],
   "source": [
    "frm = tk.Frame(width = 200, height = 200)\n",
    "frm.pack()\n",
    "\n",
    "lbl = tk.Label(text=\"Hi, I am origin\")\n",
    "lbl.place(x=0, y=0)\n",
    "\n",
    "lbl2 = tk.Label(text=\"Hi, I am centre\", bg='pink')\n",
    "lbl2.place(x=100, y=100)\n",
    "\n",
    "lbl3 = tk.Label(text=\"Hi, I am bottom-right corner\") # If not visible expand the window\n",
    "lbl3.place(x=200, y=200)\n",
    "\n",
    "window.mainloop()"
   ]
  },
  {
   "cell_type": "code",
   "execution_count": null,
   "id": "bd0bfa42",
   "metadata": {},
   "outputs": [],
   "source": [
    "# EVENT AND EVENT HANDLING\n",
    "# Event Handler: It makes the application interactive. It maintains a list of events that have occurred."
   ]
  },
  {
   "cell_type": "code",
   "execution_count": 134,
   "id": "42c143e0",
   "metadata": {},
   "outputs": [
    {
     "name": "stdout",
     "output_type": "stream",
     "text": [
      "h\n",
      "i\n"
     ]
    }
   ],
   "source": [
    "window = tk.Tk()\n",
    "\n",
    "def handle_keypress(event):\n",
    "    print(event.char)                  # prints the pressed key\n",
    "    \n",
    "window.bind(\"<Key>\",handle_keypress)   # Binding the keypress event and event handler\n",
    "# bind() function bins event and event_handler.\n",
    "# The event handler is said to be bound to the event because it’s called every time the event occurs.\n",
    "# Several other events include <Button-1>(i.e. left mouse key pressed), <Button-2>(i.e. the middle button), \n",
    "# <Button-3>(i.e.  the right mouse button)\n",
    "# Refer: https://python-course.eu/tkinter/events-and-binds-in-tkinter.php\n",
    "\n",
    "window.mainloop()"
   ]
  }
 ],
 "metadata": {
  "kernelspec": {
   "display_name": "Python 3 (ipykernel)",
   "language": "python",
   "name": "python3"
  },
  "language_info": {
   "codemirror_mode": {
    "name": "ipython",
    "version": 3
   },
   "file_extension": ".py",
   "mimetype": "text/x-python",
   "name": "python",
   "nbconvert_exporter": "python",
   "pygments_lexer": "ipython3",
   "version": "3.9.12"
  }
 },
 "nbformat": 4,
 "nbformat_minor": 5
}
