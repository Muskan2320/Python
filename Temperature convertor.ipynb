{
 "cells": [
  {
   "cell_type": "code",
   "execution_count": 55,
   "id": "c3a4df7c",
   "metadata": {},
   "outputs": [],
   "source": [
    "import tkinter as tk\n",
    "window = tk.Tk()                                 # Create window\n",
    "window.title(\"Temperature convertor\")            # It gives the name to the window\n",
    "window.resizable(width=False, height=False)      # It fix the size of window\n",
    "\n",
    "def fahrenheit_to_celsius():                                      # funtion to convert fahrenheit to celsius\n",
    "    fahrenheit = enter_temp.get()                                 # retrieving the entered temperature\n",
    "    celsius = (5/9)*(float(fahrenheit) - 32)                      # calculating the celsius temperature\n",
    "    result_lbl[\"text\"] = f'{round(celsius,2)} \\N{DEGREE CELSIUS}' # changing the text of celcsius label\n",
    "\n",
    "instruction1 = tk.Label(text='Enter Temperature')\n",
    "instruction1.grid(row=0)\n",
    "\n",
    "instruction2 = tk.Label(text='Press Arrow')\n",
    "instruction2.grid(row=1, sticky='w')\n",
    "\n",
    "entry_frame = tk.Frame()                                                   # Make frame\n",
    "enter_temp = tk.Entry(master = entry_frame, width = 10)                    # Creating entry widget to get the input\n",
    "lbl_temp = tk.Label(master = entry_frame, text = \"\\N{DEGREE FAHRENHEIT}\")  # Creating label widget for displaying unit\n",
    "\n",
    "enter_temp.grid(row = 0, column = 0, sticky='e')                   # Using grid to the set position first row and column in east\n",
    "lbl_temp.grid(row = 0, column = 1, sticky='w')\n",
    "entry_frame.grid(row = 2, column = 0, padx = 10)                   # widget created is displayed on window using pack() command\n",
    "\n",
    "convertor_btn = tk.Button(text = '\\N{RIGHTWARDS BLACK ARROW}', command = fahrenheit_to_celsius) # convetor button created\n",
    "# {RIGHTWARDS BLACK ARROW} refers to the unicode for displaying arrow\n",
    "# For more unicode refer: https://python-tcod.readthedocs.io/en/latest/tcod/charmap-reference.html\n",
    "\n",
    "result_lbl = tk.Label(text='\\N{DEGREE CELSIUS}')                 # Creating result label\n",
    "\n",
    "convertor_btn.grid(row = 2, column = 1, pady = 10)\n",
    "result_lbl.grid(row = 2, column = 2, padx = 10)\n",
    "\n",
    "window.mainloop()"
   ]
  }
 ],
 "metadata": {
  "kernelspec": {
   "display_name": "Python 3 (ipykernel)",
   "language": "python",
   "name": "python3"
  },
  "language_info": {
   "codemirror_mode": {
    "name": "ipython",
    "version": 3
   },
   "file_extension": ".py",
   "mimetype": "text/x-python",
   "name": "python",
   "nbconvert_exporter": "python",
   "pygments_lexer": "ipython3",
   "version": "3.9.12"
  }
 },
 "nbformat": 4,
 "nbformat_minor": 5
}
