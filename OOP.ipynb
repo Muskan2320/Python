{
  "nbformat": 4,
  "nbformat_minor": 0,
  "metadata": {
    "colab": {
      "provenance": [],
      "authorship_tag": "ABX9TyO1WE1XE5vikXNwOL6PWzoS",
      "include_colab_link": true
    },
    "kernelspec": {
      "name": "python3",
      "display_name": "Python 3"
    },
    "language_info": {
      "name": "python"
    }
  },
  "cells": [
    {
      "cell_type": "markdown",
      "metadata": {
        "id": "view-in-github",
        "colab_type": "text"
      },
      "source": [
        "<a href=\"https://colab.research.google.com/github/Muskan2320/Python/blob/main/OOP.ipynb\" target=\"_parent\"><img src=\"https://colab.research.google.com/assets/colab-badge.svg\" alt=\"Open In Colab\"/></a>"
      ]
    },
    {
      "cell_type": "markdown",
      "source": [
        "# Object-Oriented Programming"
      ],
      "metadata": {
        "id": "HvP0S4bBwLIq"
      }
    },
    {
      "cell_type": "markdown",
      "source": [
        "OOP stands for object-oriented programming. It is a concept based on the objects and classes. Object-Oriented Programming makes the program easy to understand as well as efficient.\n",
        "\n",
        "A class is a blueprint of the object. It is a user defined data type.\n",
        "\n",
        "An object is the instance of class. An object is any entity that has attributes and behaviors. For example, a student is an object and his attributes are name, age, etc and behavior is speaking singing, etc."
      ],
      "metadata": {
        "id": "Vltd1JJBf0mP"
      }
    },
    {
      "cell_type": "code",
      "execution_count": null,
      "metadata": {
        "id": "iOTJQ6ofW7xm"
      },
      "outputs": [],
      "source": [
        "class student:       # class keyword followed by the name of class is used to create a class\n",
        "  pass                 # pass statement is executed and nothing happens, it is used to avoid getting an error when empty code is not allowed(i.e. empty class not allowed)."
      ]
    },
    {
      "cell_type": "code",
      "source": [
        "# A class contains attributes(i.e. variables) and methods(i.e. functions) which are accessed using class object\n",
        "\n",
        "class student:\n",
        "  def assignment(self, name, subject):     # Creating a method named assignment. self represents the instance of the class. It always points to current object\n",
        "    self.name = name                       # By using the “self”  we can access the attributes and methods of the class in python. It binds the attributes with the given arguments.\n",
        "    self.subject = subject\n",
        "    return name, subject\n",
        "\n",
        "obj = student()                            # Creating object of the class\n",
        "print(obj.assignment(\"Hemant\",\"Science\"))  # Calling method using object"
      ],
      "metadata": {
        "colab": {
          "base_uri": "https://localhost:8080/"
        },
        "id": "n6VS5Rbp0gGW",
        "outputId": "188758ec-1ffe-4575-9bfb-235cf0d96300"
      },
      "execution_count": null,
      "outputs": [
        {
          "output_type": "stream",
          "name": "stdout",
          "text": [
            "('Hemant', 'Science')\n"
          ]
        }
      ]
    },
    {
      "cell_type": "code",
      "source": [
        "class student:\n",
        "  def assignment(self, a, b):\n",
        "    self.name = a                          # self points to the object and assumes that this object has an attribute \"name\".\n",
        "    self.subject = b\n",
        "    return self.name, self.subject\n",
        "\n",
        "  def mark(self, score):\n",
        "    self.score = score\n",
        "    return score\n",
        "\n",
        "obj = student()\n",
        "print(obj.assignment(\"Misthi\",\"Mathematics\"))\n",
        "print(obj.mark(80))\n",
        "\n",
        "obj2 = student()\n",
        "print(obj2.assignment(\"Jiten\",\"English\"),obj2.mark(75))"
      ],
      "metadata": {
        "colab": {
          "base_uri": "https://localhost:8080/"
        },
        "id": "ZYPNW5Yb7b3M",
        "outputId": "4e70e4f6-4fe6-4731-c886-aefe717375af"
      },
      "execution_count": null,
      "outputs": [
        {
          "output_type": "stream",
          "name": "stdout",
          "text": [
            "('Misthi', 'Mathematics')\n",
            "80\n",
            "('Jiten', 'English') 75\n"
          ]
        }
      ]
    },
    {
      "cell_type": "code",
      "source": [
        "class best_friend:\n",
        "  # defining attributes\n",
        "  name = \"\"\n",
        "  friend = \"\"\n",
        "\n",
        "  def output(self):\n",
        "    print(self.name, \"has best friend\", self.friend)\n",
        "\n",
        "obj = best_friend()\n",
        "obj.name = \"Mike\"       # access attributes and assign new values\n",
        "obj.friend = \"Sam\"\n",
        "obj.output()"
      ],
      "metadata": {
        "colab": {
          "base_uri": "https://localhost:8080/"
        },
        "id": "6s9DnN-K9OPR",
        "outputId": "0fc1bc8a-a69f-4baf-e372-ce7f8d86cb23"
      },
      "execution_count": null,
      "outputs": [
        {
          "output_type": "stream",
          "name": "stdout",
          "text": [
            "Mike has best friend Sam\n"
          ]
        }
      ]
    },
    {
      "cell_type": "markdown",
      "source": [
        "# Inheritance\n",
        "\n",
        "Inheritance allows us to create a new class from an existing class. The new class that is created is known as subclass (child or derived class) and the existing class from which the child class is derived is known as superclass (parent or base class). This enables a class created through inheritance to inherit the attributes and methods of the parent class. This means that inheritance supports code reusability."
      ],
      "metadata": {
        "id": "pHC9VcWUXgxZ"
      }
    },
    {
      "cell_type": "markdown",
      "source": [
        "**Single inheritance:** Here we have only one superclass and one subclass"
      ],
      "metadata": {
        "id": "IVvtJpdmdVdP"
      }
    },
    {
      "cell_type": "code",
      "source": [
        "class parent:                              # Parent class or super class\n",
        "  def money(self):\n",
        "    print(\"This is parent money\")\n",
        "\n",
        "class child(parent):                       # Child class or subclass\n",
        "  pass\n",
        "\n",
        "obj = child()                              # Creating object of child class\n",
        "obj.money()                                # Accessing parent class method using object of child class"
      ],
      "metadata": {
        "colab": {
          "base_uri": "https://localhost:8080/"
        },
        "id": "4OXNpB19W6lg",
        "outputId": "06bf30a6-01b4-4bc1-e689-9d96d3938653"
      },
      "execution_count": null,
      "outputs": [
        {
          "output_type": "stream",
          "name": "stdout",
          "text": [
            "This is parent money\n"
          ]
        }
      ]
    },
    {
      "cell_type": "code",
      "source": [
        "class parent:\n",
        "  def money(self):\n",
        "    print(\"This is parent money\")\n",
        "\n",
        "class child(parent):\n",
        "  def money(self):                         # Overriding the money() method\n",
        "    super().money()                        # money() method of superclass can be called using super()\n",
        "    print(\"I am unemployed.\")\n",
        "\n",
        "obj = child()\n",
        "obj.money()"
      ],
      "metadata": {
        "colab": {
          "base_uri": "https://localhost:8080/"
        },
        "id": "H9ES9Mj0gTsS",
        "outputId": "192f8be8-6937-45ec-ffc5-8d9997ad786f"
      },
      "execution_count": null,
      "outputs": [
        {
          "output_type": "stream",
          "name": "stdout",
          "text": [
            "This is parent money\n",
            "I am unemployed.\n"
          ]
        }
      ]
    },
    {
      "cell_type": "markdown",
      "source": [
        "**Multiple inheritance:** A class can be derived from more than one superclass in Python. This is called multiple inheritance."
      ],
      "metadata": {
        "id": "G_J1QTKUiIfj"
      }
    },
    {
      "cell_type": "code",
      "source": [
        "class mother:\n",
        "  fruit = \"\"\n",
        "\n",
        "  def food(self):\n",
        "    print(\"Eat\", self.fruit)\n",
        "\n",
        "  def money(self):\n",
        "    print(\"I don't have money.\")\n",
        "\n",
        "class father:\n",
        "  amount = 0\n",
        "\n",
        "  def money(self):\n",
        "    print(\"Yo can take Rs\", self.amount)\n",
        "\n",
        "class child(father, mother):                 # This order of being parent matters\n",
        "  pass\n",
        "\n",
        "obj = child()\n",
        "obj.fruit = 'Mango'\n",
        "obj.amount = 500\n",
        "obj.food()\n",
        "obj.money()"
      ],
      "metadata": {
        "colab": {
          "base_uri": "https://localhost:8080/"
        },
        "id": "eCdV63LRdB0m",
        "outputId": "6c199b2d-0437-4c93-9b83-fc1bb71524c1"
      },
      "execution_count": null,
      "outputs": [
        {
          "output_type": "stream",
          "name": "stdout",
          "text": [
            "Eat Mango\n",
            "Yo can take Rs 500\n"
          ]
        }
      ]
    },
    {
      "cell_type": "code",
      "source": [
        "class mother:\n",
        "  fruit = \"\"\n",
        "\n",
        "  def food(self):\n",
        "    print(\"Eat\", self.fruit)\n",
        "\n",
        "  def money(self):\n",
        "    print(\"I don't have money.\")\n",
        "\n",
        "class father:\n",
        "  amount = 0\n",
        "\n",
        "  def money(self):\n",
        "    print(\"Yo can take Rs\", self.amount)\n",
        "\n",
        "class child(mother, father):                 # This order of being parent matters\n",
        "  pass\n",
        "\n",
        "obj = child()\n",
        "obj.fruit = 'Mango'\n",
        "obj.amount = 500\n",
        "obj.food()\n",
        "obj.money()"
      ],
      "metadata": {
        "colab": {
          "base_uri": "https://localhost:8080/"
        },
        "id": "vy2z2IMserUN",
        "outputId": "ef67852e-1c76-4e86-efdb-dd4ebb371c73"
      },
      "execution_count": null,
      "outputs": [
        {
          "output_type": "stream",
          "name": "stdout",
          "text": [
            "Eat Mango\n",
            "I don't have money.\n"
          ]
        }
      ]
    },
    {
      "cell_type": "markdown",
      "source": [
        "Above both code seems to be same but the difference is the order in which they are parent to the child class. The parent is given the first priority."
      ],
      "metadata": {
        "id": "ZfQlT9CGimYt"
      }
    },
    {
      "cell_type": "markdown",
      "source": [
        "**Multilevel Inheritance:** You can not only derive a class from the superclass but you can also derive a class from the derived class that is a child class can be parent to another class. This form of inheritance is known as multilevel inheritance."
      ],
      "metadata": {
        "id": "TyzyLyoPjgvp"
      }
    },
    {
      "cell_type": "markdown",
      "source": [
        "![image.png](data:image/png;base64,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)"
      ],
      "metadata": {
        "id": "3ZI36czwlA_d"
      }
    },
    {
      "cell_type": "code",
      "source": [
        "class grandparent:\n",
        "  amount = 0\n",
        "\n",
        "  def money(self):\n",
        "    print(\"Grandparent: I have\", self.amount)\n",
        "\n",
        "class parent(grandparent):\n",
        "  def money_left(self):\n",
        "    print(\"Parent: I have\", self.amount/2)\n",
        "    self.amount = self.amount/2\n",
        "\n",
        "class child(parent):\n",
        "  pass\n",
        "\n",
        "obj  = child()\n",
        "obj.amount = 1000                     # child can access grandparent class also\n",
        "obj.money()\n",
        "\n",
        "obj1 = parent()\n",
        "obj1.money()"
      ],
      "metadata": {
        "colab": {
          "base_uri": "https://localhost:8080/"
        },
        "id": "Jp9Tr9gMrc1f",
        "outputId": "1989a249-9a42-48f1-d1d3-cf535594ca3a"
      },
      "execution_count": null,
      "outputs": [
        {
          "output_type": "stream",
          "name": "stdout",
          "text": [
            "Grandparent: I have 1000\n",
            "Grandparent: I have 0\n"
          ]
        }
      ]
    },
    {
      "cell_type": "code",
      "source": [
        "class grandparent:\n",
        "  amount = 0\n",
        "\n",
        "  def money(self):\n",
        "    print(\"Grandparent: I have\", self.amount)\n",
        "\n",
        "class parent(grandparent):\n",
        "  def money(self):\n",
        "    print(\"Parent: I have\", self.amount/2)\n",
        "    self.amount = self.amount/2\n",
        "\n",
        "class child(parent):\n",
        "  def money(self):\n",
        "    super().money()\n",
        "    print(\"Child: I have\", self.amount)\n",
        "\n",
        "obj  = child()\n",
        "obj.amount = 1000                     # child can access grandparent class also\n",
        "obj.money()\n",
        "\n",
        "obj1 = parent()\n",
        "obj1.money()\n",
        "grandparent.money(obj)               # calling grandparent method using child object"
      ],
      "metadata": {
        "colab": {
          "base_uri": "https://localhost:8080/"
        },
        "id": "MByKRV_xiihs",
        "outputId": "cec543f8-c6bd-4c0e-9c66-b876b34c9e92"
      },
      "execution_count": null,
      "outputs": [
        {
          "output_type": "stream",
          "name": "stdout",
          "text": [
            "Parent: I have 500.0\n",
            "Child: I have 500.0\n",
            "Parent: I have 0.0\n",
            "Grandparent: I have 500.0\n"
          ]
        }
      ]
    },
    {
      "cell_type": "markdown",
      "source": [
        "**Hierarchical inheritance:** When more than one derived class are created from a single base this type of inheritance is called hierarchical inheritance. A hierarchy of parent and child is formed. A parent can have two or more children."
      ],
      "metadata": {
        "id": "_HeDOzuu1SBd"
      }
    },
    {
      "cell_type": "code",
      "source": [
        "class fruit:\n",
        "  name = \"\"\n",
        "  shape = \"\"\n",
        "\n",
        "  def intro(self):\n",
        "    print(\"I am parent of\", self.name)\n",
        "\n",
        "class apple(fruit):\n",
        "  def intro(self):\n",
        "    super().intro()\n",
        "    print(\"I am\",self.name,\"and I am\",self.shape,\"in shape\")\n",
        "\n",
        "class mango(fruit):\n",
        "  def intro(self):\n",
        "    super().intro()\n",
        "    print(\"I am\",self.name,\"and I am like\",self.shape,\"in shape\")\n",
        "\n",
        "class orange(fruit):\n",
        "  def intro(self):\n",
        "    super().intro()\n",
        "    print(\"I am\",self.name,\"and I am\",self.shape,\"in shape\")\n",
        "\n",
        "\n",
        "obj_app = apple()\n",
        "obj_app.name = \"Apple\"\n",
        "obj_app.shape = \"round\"\n",
        "obj_app.intro()\n",
        "\n",
        "obj_man = mango()\n",
        "obj_man.name = \"Mango\"\n",
        "obj_man.shape = \"kidney\"\n",
        "obj_man.intro()\n",
        "\n",
        "obj_oran = orange()\n",
        "obj_oran.name = \"Orange\"\n",
        "obj_oran.shape = \"oblate\"\n",
        "obj_oran.intro()"
      ],
      "metadata": {
        "id": "LGqi_Phkqme-",
        "colab": {
          "base_uri": "https://localhost:8080/"
        },
        "outputId": "c41e36f0-4b51-498b-b3f1-dd90bb8b64af"
      },
      "execution_count": null,
      "outputs": [
        {
          "output_type": "stream",
          "name": "stdout",
          "text": [
            "I am parent of Apple\n",
            "I am Apple and I am round in shape\n",
            "I am parent of Mango\n",
            "I am Mango and I am like kidney in shape\n",
            "I am parent of Orange\n",
            "I am Orange and I am oblate in shape\n"
          ]
        }
      ]
    },
    {
      "cell_type": "markdown",
      "source": [
        "**Hybrid inheritance:** Inheritance consisting of multiple types of inheritance is called hybrid inheritance."
      ],
      "metadata": {
        "id": "jT3qLVmW4H9V"
      }
    },
    {
      "cell_type": "code",
      "source": [
        "class grandparent:\n",
        "  def intro():\n",
        "    print(\"I have one kid\")\n",
        "\n",
        "class parent(grandparent):\n",
        "  name = \"\"\n",
        "  def intro():\n",
        "    print(\"I have two kids\")\n",
        "\n",
        "class child1(parent):\n",
        "  def intro(self):\n",
        "    print(\"I am\", self.name)\n",
        "\n",
        "class child2(parent):\n",
        "  def intro(self):\n",
        "    print(\"I am\", self.name)\n",
        "\n",
        "obj1 = child1()\n",
        "obj1.name = \"Sam\"\n",
        "\n",
        "parent.intro()                        # method can be accessed without object because method don't have self as arguement. Hence, no object required\n",
        "\n",
        "obj2 = child2()\n",
        "obj2.name = \"Rinki\"\n",
        "\n",
        "obj1.intro()\n",
        "obj2.intro()"
      ],
      "metadata": {
        "colab": {
          "base_uri": "https://localhost:8080/"
        },
        "id": "oh0Ns7Ug3pnz",
        "outputId": "637c8fbe-7a21-4a33-bd77-08d7510903b3"
      },
      "execution_count": null,
      "outputs": [
        {
          "output_type": "stream",
          "name": "stdout",
          "text": [
            "I have two kids\n",
            "I am Sam\n",
            "I am Rinki\n"
          ]
        }
      ]
    },
    {
      "cell_type": "markdown",
      "source": [
        "# Polymorphism\n",
        "\n",
        "It means 'many forms'. It when the name of two methods is same but arguements vary.\n",
        "\n",
        "Polymorphism types:\n",
        "\n",
        "1. Comiple time:\n",
        "\n",
        "   -> Function overloading (called method overloading in classes)\n",
        "   \n",
        "   -> Operator overloading\n",
        "\n",
        "2. Run time:\n",
        "\n",
        "   -> Virtual functions"
      ],
      "metadata": {
        "id": "uMRxlQmz_pFe"
      }
    },
    {
      "cell_type": "markdown",
      "source": [
        "**Method overloading:** It is when the methods have same name but differ by arguements."
      ],
      "metadata": {
        "id": "9WGP_6kbD2v8"
      }
    },
    {
      "cell_type": "code",
      "source": [
        "# In python, everything is object that can be class, method\n",
        "# A object that is class can have only one attribute named with given name.\n",
        "\n",
        "class subtraction:\n",
        "  def sub(self, a):           # Even if two methods are written with different arguements only one of them is considered.\n",
        "    self.a = a\n",
        "    print(\"Result: \",-a)\n",
        "\n",
        "  def sub(self, a, b):        # This method will be executed as it replaces the first one\n",
        "    self.a = a\n",
        "    self.b = b\n",
        "    print(\"Result: \",a - b)\n",
        "\n",
        "\n",
        "\n",
        "obj = subtraction()\n",
        "\n",
        "# obj.sub(3)                  # If you uncomment this you will get an error because class has sub method where both a and b has to be passed\n",
        "obj.sub(3,4)"
      ],
      "metadata": {
        "colab": {
          "base_uri": "https://localhost:8080/"
        },
        "id": "sjk4x3sF5oKl",
        "outputId": "66187c8b-86fe-4759-981d-60dc9fadad43"
      },
      "execution_count": null,
      "outputs": [
        {
          "output_type": "stream",
          "name": "stdout",
          "text": [
            "Result:  -1\n"
          ]
        }
      ]
    },
    {
      "cell_type": "code",
      "source": [
        "# polymorphism using inheritance and method overriding:\n",
        "\n",
        "class sisters:\n",
        "  def output(self):\n",
        "    print(\"We are two sisters\")\n",
        "\n",
        "class elder(sisters):\n",
        "  def output(self):\n",
        "    print(\"I am elder sister\")\n",
        "\n",
        "class younger(sisters):\n",
        "  def output(self):\n",
        "    print(\"I am younger sister\")\n",
        "\n",
        "\n",
        "obj_sis = sisters()\n",
        "obj_sis.output()\n",
        "\n",
        "obj_el = elder()\n",
        "obj_el.output()\n",
        "\n",
        "obj_you = younger()\n",
        "obj_you.output()"
      ],
      "metadata": {
        "colab": {
          "base_uri": "https://localhost:8080/"
        },
        "id": "q8eXiXO_K34P",
        "outputId": "a2f3b31a-4649-47a9-ca62-7c56e46a898c"
      },
      "execution_count": null,
      "outputs": [
        {
          "output_type": "stream",
          "name": "stdout",
          "text": [
            "We are two sisters\n",
            "I am elder sister\n",
            "I am younger sister\n"
          ]
        }
      ]
    },
    {
      "cell_type": "markdown",
      "source": [
        "**Operator overloading:** It refers to the situation when any operator is used to perform operations apart from its normal behaviour. For example, a + operator used to add complex numbers.\n",
        "\n",
        "In python, we have special functions to overload any operator."
      ],
      "metadata": {
        "id": "wrRo9T2rV2T0"
      }
    },
    {
      "cell_type": "code",
      "source": [
        "# p1 + p2\t  ---->       p1.__add__(p2)\n",
        "\n",
        "# p1 - p2\t  ---->       p1.__sub__(p2)\n",
        "\n",
        "# p1 * p2\t  ---->       p1.__mul__(p2)\n",
        "\n",
        "# p1 ** p2\t---->       p1.__pow__(p2)\n",
        "\n",
        "# p1 / p2\t  ---->       p1.__truediv__(p2)\n",
        "\n",
        "# p1 // p2\t---->       p1.__floordiv__(p2)\n",
        "\n",
        "# p1 % p2\t  ---->       p1.__mod__(p2)\n",
        "\n",
        "# p1 & p2\t  ---->       p1.__and__(p2)\n",
        "\n",
        "# p1 | p2\t  ---->       p1.__or__(p2)\n",
        "\n",
        "# ~p1\t      ---->       p1.__invert__()"
      ],
      "metadata": {
        "id": "MMHal14CZti-"
      },
      "execution_count": null,
      "outputs": []
    },
    {
      "cell_type": "code",
      "source": [
        "class complex:\n",
        "  def assign(self, x=0, y=0):\n",
        "    self.x = x\n",
        "    self.y = y\n",
        "\n",
        "  def __add__(self, current):           # Overriding addition(+) operator\n",
        "    x = self.x + current.x\n",
        "    y = self.y + current.y\n",
        "    print(x,\"+\",y,\"i\")\n",
        "\n",
        "  def __sub__(self, current):           # Overriding subtraction(-) operator\n",
        "    x = self.x - current.x\n",
        "    y = self.y - current.y\n",
        "    return x,y\n",
        "\n",
        "c1 = complex()\n",
        "c1.assign(4,5)\n",
        "\n",
        "c2 = complex()\n",
        "c2.assign(2,1)\n",
        "\n",
        "c1+c2                                 # add method called because of + operator\n",
        "\n",
        "c3 = c1.__sub__(c2)                   # OR complex.__sub__(c1, c2)\n",
        "print(c3)"
      ],
      "metadata": {
        "id": "XCCjhQokVOUQ",
        "colab": {
          "base_uri": "https://localhost:8080/"
        },
        "outputId": "d75fd42b-8126-4ed7-f390-a77dea8131fb"
      },
      "execution_count": null,
      "outputs": [
        {
          "output_type": "stream",
          "name": "stdout",
          "text": [
            "6 + 6 i\n",
            "(2, 4)\n"
          ]
        }
      ]
    },
    {
      "cell_type": "markdown",
      "source": [
        "# Constructors & Destructors\n",
        "\n"
      ],
      "metadata": {
        "id": "BHlCRSOxbwIh"
      }
    },
    {
      "cell_type": "markdown",
      "source": [
        "**Constructor:** Constructor is a special type of function that is called automatically when an object is created. Constructors allow an object to initialize a value before it is used.\n",
        "\n",
        "Constructors are of two types:\n",
        "\n",
        "**Default constructor:** The default constructor is a simple constructor which doesn't have any argument to pass. Its definition has only one argument which is a reference to the instance being constructed.\n",
        "\n",
        "**Parameterized constructor:** Constructor which has parameters to pass is known as parameterized constructor. The parameterized constructor takes its first argument as a reference to the instance being constructed known as self."
      ],
      "metadata": {
        "id": "33mHsrlEec4b"
      }
    },
    {
      "cell_type": "code",
      "source": [
        "class study:\n",
        "  def __init__(self):                                # __init__ function is the constructor of the class. self arguement is always passed to the constructor\n",
        "    print(\"I study 4 hours in evening\")\n",
        "\n",
        "obj = study()"
      ],
      "metadata": {
        "colab": {
          "base_uri": "https://localhost:8080/"
        },
        "id": "MXIsA2WMvX6O",
        "outputId": "d259f2db-7587-496e-9002-384522002ab8"
      },
      "execution_count": null,
      "outputs": [
        {
          "output_type": "stream",
          "name": "stdout",
          "text": [
            "I study 4 hours in evening\n"
          ]
        }
      ]
    },
    {
      "cell_type": "code",
      "source": [
        "class study:\n",
        "  time = 0\n",
        "\n",
        "  def __init__(self, t):                            # contructor is called with a parameter t. (NOTE: self will always be the first parameter)\n",
        "    self.time = t\n",
        "\n",
        "  def tim(self):\n",
        "    print(\"I study\", self.time, \"hours in a day.\")\n",
        "\n",
        "obj = study(5)                                      # any parameter to constructor is passed while creating object\n",
        "obj.tim()"
      ],
      "metadata": {
        "colab": {
          "base_uri": "https://localhost:8080/"
        },
        "id": "qZJJNqObgNPk",
        "outputId": "fda0b8b9-d083-42aa-ca93-9cb376311896"
      },
      "execution_count": null,
      "outputs": [
        {
          "output_type": "stream",
          "name": "stdout",
          "text": [
            "I study 5 hours in a day.\n"
          ]
        }
      ]
    },
    {
      "cell_type": "markdown",
      "source": [
        "Destructor: Destructor is a special type of function that is called automatically when the block is exited or when the program terminates."
      ],
      "metadata": {
        "id": "ImOphlrbejDx"
      }
    },
    {
      "cell_type": "code",
      "source": [
        "class sleep:\n",
        "  def __init__(self):\n",
        "    print(\"I am awake\")\n",
        "\n",
        "  def __del__(self):                               # destructor is defined using __del__ function\n",
        "    print(\"I am sleeping\")\n",
        "\n",
        "obj = sleep()"
      ],
      "metadata": {
        "colab": {
          "base_uri": "https://localhost:8080/"
        },
        "id": "LMu0Fo_DhCi0",
        "outputId": "a400952c-53fe-4e3f-d6ec-ef4a42396ea3"
      },
      "execution_count": null,
      "outputs": [
        {
          "output_type": "stream",
          "name": "stdout",
          "text": [
            "I am awake\n",
            "I am sleeping\n"
          ]
        }
      ]
    },
    {
      "cell_type": "code",
      "source": [
        "# sequence of calling constructors and destructors\n",
        "\n",
        "class subject:\n",
        "  def __init__(self):\n",
        "    print(\"Program started\")\n",
        "\n",
        "  def hour(self,time):\n",
        "    self.time = time\n",
        "    print(\"I study\", self.time, \"hours in a day\")\n",
        "\n",
        "  def __del__(self):\n",
        "    print(\"Program ended\")\n",
        "\n",
        "class science(subject):\n",
        "  def __init__(self):\n",
        "    print(\"I love studying science\")\n",
        "\n",
        "  def hour(self,time):\n",
        "    super().hour(time)\n",
        "    print(\"I study science\",self.time/2,\"hours\")\n",
        "\n",
        "obj = science()\n",
        "obj.hour(4)\n",
        "\n"
      ],
      "metadata": {
        "colab": {
          "base_uri": "https://localhost:8080/"
        },
        "id": "Xr727G6BiTHG",
        "outputId": "a0612d95-4ab0-4537-8605-3e1f7134bc68"
      },
      "execution_count": null,
      "outputs": [
        {
          "output_type": "stream",
          "name": "stdout",
          "text": [
            "I love studying science\n",
            "I study 4 hours in a day\n",
            "I study science 2.0 hours\n",
            "Program ended\n"
          ]
        }
      ]
    },
    {
      "cell_type": "markdown",
      "source": [
        "# Access Modifier\n",
        "\n",
        "Access specifiers have an important role to play in securing data from unauthorized access and in preventing it from being exploited.\n",
        "\n",
        "I has three types:\n",
        "\n",
        "- Public\n",
        "\n",
        "- Private\n",
        "\n",
        "- Protected"
      ],
      "metadata": {
        "id": "m-U-z2DaKs9w"
      }
    },
    {
      "cell_type": "markdown",
      "source": [
        "**Public Access Modifier:** It is accessible from any part of the program."
      ],
      "metadata": {
        "id": "hGfIfqvBMhRc"
      }
    },
    {
      "cell_type": "code",
      "source": [
        "class pencil_box:\n",
        "  def material(self,pencil, erasor):                            # Public method\n",
        "    self.pencil = pencil                                        # Public variables\n",
        "    self.erasor = erasor\n",
        "    print(\"I have\", self.pencil, \"and\", self.erasor)\n",
        "\n",
        "class pencil(pencil_box):\n",
        "  def number(self, num):\n",
        "    self.num = num\n",
        "    print(\"I have\", self.num, \"pencil(s)\")\n",
        "\n",
        "class erasor:\n",
        "  def numb(self,num):\n",
        "    self.num = num\n",
        "    print(\"I have\", self.num, \"erasor(s)\")\n",
        "\n",
        "obj = pencil()\n",
        "obj.number(3)                                                   # Accessing public method of class itself\n",
        "obj.material(\"pencil\",\"erasor\")                                 # Accessing public method of parent class\n",
        "erasor.numb(obj,4)                                              # Method of one class accessed using object of another class"
      ],
      "metadata": {
        "colab": {
          "base_uri": "https://localhost:8080/"
        },
        "id": "0hWNgPxwMvpf",
        "outputId": "3bd23bb0-7909-4d9e-ee72-e72c93b3a860"
      },
      "execution_count": null,
      "outputs": [
        {
          "output_type": "stream",
          "name": "stdout",
          "text": [
            "I have 3 pencil(s)\n",
            "I have pencil and erasor\n",
            "I have 4 erasor(s)\n"
          ]
        }
      ]
    },
    {
      "cell_type": "markdown",
      "source": [
        "**Protected Access Modifier:** These are accessible only to the derived class and class itself. For declaring any variable or method protected it's name is initialised with underscore(_)."
      ],
      "metadata": {
        "id": "eS98PhP0Mx7p"
      }
    },
    {
      "cell_type": "code",
      "source": [
        "class pencil_box:\n",
        "  _pencil = \"\"                                                   # Protected variables\n",
        "  _erasor = \"\"\n",
        "\n",
        "  def _material(self,pencil, erasor):                            # Protected method\n",
        "    self._pencil = pencil                                        # Protected varible accessed using protected method\n",
        "    self._erasor = erasor\n",
        "    print(\"I have\", self._pencil, \"and\", self._erasor)\n",
        "\n",
        "class pencil(pencil_box):\n",
        "  def number(self, num):\n",
        "    self.num = num\n",
        "    print(\"I have\", self.num, \"pencil(s)\")\n",
        "\n",
        "obj = pencil()\n",
        "obj._material(\"pencil\",\"erasor\")                                 # Accessing protected method of parent class"
      ],
      "metadata": {
        "colab": {
          "base_uri": "https://localhost:8080/"
        },
        "id": "SKa_UMuFLSim",
        "outputId": "5a0bbd91-a463-46d3-a4db-e8ef25b1f3c3"
      },
      "execution_count": null,
      "outputs": [
        {
          "output_type": "stream",
          "name": "stdout",
          "text": [
            "I have pencil and erasor\n"
          ]
        }
      ]
    },
    {
      "cell_type": "markdown",
      "source": [
        "**Private Access Modifier:** These are accessible only inside the class. It is the most secure access. For declaring any variable or method protected it's name is initialised with double underscore(__)."
      ],
      "metadata": {
        "id": "JEiV_1sdNKau"
      }
    },
    {
      "cell_type": "code",
      "source": [
        "class pencil_box:\n",
        "  __pencil = \"\"                                                   # Private variables\n",
        "  __erasor = \"\"\n",
        "\n",
        "  def __material(self,pencil, erasor):                            # Private method\n",
        "    self.__pencil = pencil\n",
        "    self.__erasor = erasor\n",
        "\n",
        "  # A public method is required to access the private method and variables of class as they are only accessible inside class\n",
        "  def access_priv(self, pencil, erasor):\n",
        "    self.__material(pencil, erasor)\n",
        "    print(\"I have\", self.__pencil, \"and\", self.__erasor)\n",
        "\n",
        "  def out(self):\n",
        "    print(\"I have\", self.__pencil, \"and\", self.__erasor)\n",
        "\n",
        "\n",
        "class pencil(pencil_box):\n",
        "  def number(self, num):\n",
        "    self.num = num\n",
        "    print(\"I have\", self.num, \"pencil(s)\")\n",
        "\n",
        "obj = pencil()\n",
        "# obj.__material(\"pencil\",\"erasor\")                             # Private method of parent class cannot be accessed -> Hence, this line thorws an error.\n",
        "obj.access_priv(\"pencil\",\"erasor\")                              # Called method using object of child class\n",
        "\n",
        "obj1 = pencil_box()\n",
        "obj1.access_priv(\"pencil\",\"erasor\")                             # Called method using object of class itself"
      ],
      "metadata": {
        "id": "OgSzgOgmOCcF",
        "colab": {
          "base_uri": "https://localhost:8080/"
        },
        "outputId": "bd824adb-5c0f-4c02-e49a-80c34431de08"
      },
      "execution_count": null,
      "outputs": [
        {
          "output_type": "stream",
          "name": "stdout",
          "text": [
            "I have pencil and erasor\n",
            "I have pencil and erasor\n"
          ]
        }
      ]
    },
    {
      "cell_type": "markdown",
      "source": [
        "# Encapsulation\n",
        "\n",
        "It describes the idea of wrapping data and the methods that work on data within one unit. This puts restrictions on accessing variables and methods directly and can prevent the accidental modification of data. This also helps to achieve data hiding.\n",
        "\n"
      ],
      "metadata": {
        "id": "l043GFxBDgy1"
      }
    },
    {
      "cell_type": "code",
      "source": [
        "# It can be performed using protected and private access modifier.  As private access modifier doesn't allow the modification of variable outside the class\n",
        "\n",
        "class detail:\n",
        "\n",
        "    def __init__(self):\n",
        "        self.__name = \"Mohan\"\n",
        "        self.__age = 20\n",
        "\n",
        "    def record(self):\n",
        "        print(\"Name: \", self.__name)\n",
        "        print(\"Age: \", self.__age)\n",
        "\n",
        "    def change_age(self, age):\n",
        "        self.__age = age\n",
        "\n",
        "obj = detail()\n",
        "obj.record()\n",
        "\n",
        "# Trying to change the age but it cannot be modified outside the class because it is private variable\n",
        "print(\"\\nAfter modifying age outside class\")\n",
        "obj.__age = 21\n",
        "obj.record()\n",
        "\n",
        "# Using the class method to modify the age\n",
        "print(\"\\nAfter modifying age using class method\")\n",
        "obj.change_age(22)\n",
        "obj.record()"
      ],
      "metadata": {
        "id": "6gg79G4ypZIT",
        "colab": {
          "base_uri": "https://localhost:8080/"
        },
        "outputId": "4cc7fdc4-096d-43f3-dba6-063f13bb1ba6"
      },
      "execution_count": null,
      "outputs": [
        {
          "output_type": "stream",
          "name": "stdout",
          "text": [
            "Name:  Mohan\n",
            "Age:  20\n",
            "\n",
            "After modifying age outside class\n",
            "Name:  Mohan\n",
            "Age:  20\n",
            "\n",
            "After modifying age using class method\n",
            "Name:  Mohan\n",
            "Age:  22\n"
          ]
        }
      ]
    },
    {
      "cell_type": "markdown",
      "source": [
        "# Abstraction\n",
        "\n",
        "A process of handling complexity by hiding unnecessary information from the user and only displaying the relevant information. User have nothing to do with implementation of an apllication. Hence, we declare the methods and variables in abstract class and write implementation of variables and methods in child class.\n",
        "\n",
        "For example, the interface of any application can be think as abstract class and how those buttons of interface are working is defined in the child class of that abstract class(that working is not important for user).\n",
        "\n",
        "In python, we have \"abc\" module to create the abstract class."
      ],
      "metadata": {
        "id": "5oppbFJp47-6"
      }
    },
    {
      "cell_type": "code",
      "source": [
        "from abc import ABC\n",
        "\n",
        "class vehicle(ABC):                          # ABC arguement specifies that it is abstract class\n",
        "  # Abstract method\n",
        "  def wheel(self):\n",
        "    pass\n",
        "\n",
        "class truck(vehicle):\n",
        "  def wheel(self):\n",
        "    print(\"Truck has 6 wheels.\")\n",
        "\n",
        "class cycle(vehicle):\n",
        "  def wheel(self):\n",
        "    print(\"Cycle has 2 wheels.\")\n",
        "\n",
        "class car(vehicle):\n",
        "  def wheel(self):\n",
        "    print(\"Car has 4 wheels.\")\n",
        "\n",
        "obj1 = truck()\n",
        "obj1.wheel()\n",
        "\n",
        "obj2 = cycle()\n",
        "obj2.wheel()\n",
        "\n",
        "obj3 = car()\n",
        "obj3.wheel()"
      ],
      "metadata": {
        "id": "RkcTkTnF8SZB",
        "colab": {
          "base_uri": "https://localhost:8080/"
        },
        "outputId": "4c5399c5-a6fc-4e95-b386-04505403bb49"
      },
      "execution_count": 2,
      "outputs": [
        {
          "output_type": "stream",
          "name": "stdout",
          "text": [
            "Truck has 6 wheels.\n",
            "Cycle has 2 wheels.\n",
            "Car has 4 wheels.\n"
          ]
        }
      ]
    }
  ]
}