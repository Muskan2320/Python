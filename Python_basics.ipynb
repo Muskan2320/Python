{
  "nbformat": 4,
  "nbformat_minor": 0,
  "metadata": {
    "colab": {
      "provenance": [],
      "authorship_tag": "ABX9TyPSaIZqxO9RzOg4nJX+58Hk",
      "include_colab_link": true
    },
    "kernelspec": {
      "name": "python3",
      "display_name": "Python 3"
    },
    "language_info": {
      "name": "python"
    }
  },
  "cells": [
    {
      "cell_type": "markdown",
      "metadata": {
        "id": "view-in-github",
        "colab_type": "text"
      },
      "source": [
        "<a href=\"https://colab.research.google.com/github/Muskan2320/Python/blob/main/Python_basics.ipynb\" target=\"_parent\"><img src=\"https://colab.research.google.com/assets/colab-badge.svg\" alt=\"Open In Colab\"/></a>"
      ]
    },
    {
      "cell_type": "markdown",
      "source": [
        "# PYTHON\n",
        "\n",
        "**Python is a popular programming language. Python is commonly used for developing websites and software, task automation, data analysis, and data visualization.**"
      ],
      "metadata": {
        "id": "ph3bHVQ3fzx8"
      }
    },
    {
      "cell_type": "markdown",
      "source": [
        "#Data Types and its operations\n",
        "\n",
        "Int, float, string, list, tuple, set, dictionary and boolean are some common data types. It is not compulsory in python to declare the data type we can directly assign the value to variable."
      ],
      "metadata": {
        "id": "UH0_esbOgG28"
      }
    },
    {
      "cell_type": "markdown",
      "source": [
        "**Numeric data type - Int, Float**"
      ],
      "metadata": {
        "id": "kjF3v-cpl4Dc"
      }
    },
    {
      "cell_type": "code",
      "execution_count": null,
      "metadata": {
        "colab": {
          "base_uri": "https://localhost:8080/"
        },
        "id": "nh8xq8DbfQih",
        "outputId": "a8cce6c1-33c0-4996-8be9-071847cd8906"
      },
      "outputs": [
        {
          "output_type": "stream",
          "name": "stdout",
          "text": [
            "<class 'int'>\n",
            "<class 'float'>\n"
          ]
        }
      ],
      "source": [
        "x = 2           ## Integer\n",
        "y = 2.2         ## Float\n",
        "\n",
        "print(type(x))  ## print() function used to output something\n",
        "print(type(y))"
      ]
    },
    {
      "cell_type": "code",
      "source": [
        "# Summation\n",
        "sum = x + y\n",
        "print(sum)\n",
        "\n",
        "# Summing two integers\n",
        "print(2+2)"
      ],
      "metadata": {
        "colab": {
          "base_uri": "https://localhost:8080/"
        },
        "id": "l9XsR0vCpday",
        "outputId": "0a05672d-05fb-4778-920c-d853d1df8124"
      },
      "execution_count": null,
      "outputs": [
        {
          "output_type": "stream",
          "name": "stdout",
          "text": [
            "4.2\n",
            "4\n"
          ]
        }
      ]
    },
    {
      "cell_type": "code",
      "source": [
        "# Subtraction\n",
        "sub = x - y\n",
        "print(sub)\n",
        "\n",
        "# Subtracting two integers\n",
        "print(9-4)"
      ],
      "metadata": {
        "colab": {
          "base_uri": "https://localhost:8080/"
        },
        "id": "d3AmU55oqImf",
        "outputId": "dfe0f0e3-af96-4618-d7ce-5afa2f93b163"
      },
      "execution_count": null,
      "outputs": [
        {
          "output_type": "stream",
          "name": "stdout",
          "text": [
            "-0.20000000000000018\n",
            "5\n"
          ]
        }
      ]
    },
    {
      "cell_type": "code",
      "source": [
        "# Multiplication\n",
        "mul = x*y\n",
        "print(mul)\n",
        "\n",
        "# Multiplying two integers\n",
        "print(3*2)"
      ],
      "metadata": {
        "colab": {
          "base_uri": "https://localhost:8080/"
        },
        "id": "pMpWZq51qerz",
        "outputId": "896f680e-a7af-40f5-d48d-622629223502"
      },
      "execution_count": null,
      "outputs": [
        {
          "output_type": "stream",
          "name": "stdout",
          "text": [
            "4.4\n",
            "6\n"
          ]
        }
      ]
    },
    {
      "cell_type": "code",
      "source": [
        "# Division\n",
        "div = x/y\n",
        "print(div)\n",
        "\n",
        "# Dividing two integers\n",
        "print(5/2)        # By default it division return a float value\n",
        "print(4/2)"
      ],
      "metadata": {
        "colab": {
          "base_uri": "https://localhost:8080/"
        },
        "id": "WRMLjY5CqgtO",
        "outputId": "78572664-5155-47e8-b378-5ee01e44123c"
      },
      "execution_count": null,
      "outputs": [
        {
          "output_type": "stream",
          "name": "stdout",
          "text": [
            "0.9090909090909091\n",
            "2.5\n",
            "2.0\n"
          ]
        }
      ]
    },
    {
      "cell_type": "markdown",
      "source": [
        "**Strings**"
      ],
      "metadata": {
        "id": "C4TPRIx3rRSw"
      }
    },
    {
      "cell_type": "code",
      "source": [
        "x = \"Hello everyone\"    # OR x = 'Hello everyone'\n",
        "print(x)\n",
        "\n",
        "# String indexing\n",
        "print(x[3])\n",
        "\n",
        "print(x[-1])            # Accessing last element of string\n",
        "\n",
        "# String slicing\n",
        "print(x[:4])            # print string from starting till index 3 (index 4 is excluded)\n",
        "\n",
        "print(x[6:])            # print string from 5 till end\n",
        "\n",
        "print(x[2:5])           # print string from 2 t0 index 4 (index 5 is excluded)"
      ],
      "metadata": {
        "colab": {
          "base_uri": "https://localhost:8080/"
        },
        "id": "Bw3gR178rIjN",
        "outputId": "5e647f72-f32f-4c61-c489-b0c3e5382246"
      },
      "execution_count": null,
      "outputs": [
        {
          "output_type": "stream",
          "name": "stdout",
          "text": [
            "Hello everyone\n",
            "l\n",
            "e\n",
            "Hell\n",
            "everyone\n",
            "llo\n"
          ]
        }
      ]
    },
    {
      "cell_type": "code",
      "source": [
        "# String concatenation -> joinig two strings using + operator\n",
        "\n",
        "string1 = 'My name is Muskan.'\n",
        "string_new = string1 + ' My surname is Mulyan.'\n",
        "print(string_new)"
      ],
      "metadata": {
        "colab": {
          "base_uri": "https://localhost:8080/"
        },
        "id": "1ThIfHpvs74e",
        "outputId": "ec9be561-958b-4380-8ec1-314e4a8ec69b"
      },
      "execution_count": null,
      "outputs": [
        {
          "output_type": "stream",
          "name": "stdout",
          "text": [
            "My name is Muskan. My surname is Mulyan.\n"
          ]
        }
      ]
    },
    {
      "cell_type": "code",
      "source": [
        "# Splitting of string\n",
        "\n",
        "L = string1.split(\" \")                    # string1 will be separated by every space and every word will be stored in a list\n",
        "print(L)\n",
        "\n",
        "new = 'You#know#me'\n",
        "K = new.split(\"#\")\n",
        "print(K)\n",
        "\n",
        "# Joining of string\n",
        "string = \" \".join(L)                      # strings in list will be joined using space\n",
        "print(string)\n",
        "\n",
        "string = \"#\".join(K)\n",
        "print(string)"
      ],
      "metadata": {
        "colab": {
          "base_uri": "https://localhost:8080/"
        },
        "id": "kOfmV8yGtTW6",
        "outputId": "b391d126-2590-405b-8f73-39b8ebe7e434"
      },
      "execution_count": null,
      "outputs": [
        {
          "output_type": "stream",
          "name": "stdout",
          "text": [
            "['My', 'name', 'is', 'Muskan.']\n",
            "['You', 'know', 'me']\n",
            "My name is Muskan.\n",
            "You#know#me\n"
          ]
        }
      ]
    },
    {
      "cell_type": "code",
      "source": [
        "# Find the length of string\n",
        "\n",
        "length_string1 = len(string1)\n",
        "print(\"Length of string: \" + str(length_string1))"
      ],
      "metadata": {
        "colab": {
          "base_uri": "https://localhost:8080/"
        },
        "id": "XXXDmQT6th1n",
        "outputId": "c124121a-26ac-4b9e-ba55-52557c094cb2"
      },
      "execution_count": null,
      "outputs": [
        {
          "output_type": "stream",
          "name": "stdout",
          "text": [
            "Length of string: 18\n"
          ]
        }
      ]
    },
    {
      "cell_type": "code",
      "source": [
        "# Count the occurrence of word in string\n",
        "\n",
        "count_My = string_new.count('My')\n",
        "print(\"Number of times 'My' occured in string_new: \" + str(count_My))"
      ],
      "metadata": {
        "colab": {
          "base_uri": "https://localhost:8080/"
        },
        "id": "t7AsUg2nuBIX",
        "outputId": "5eba6870-c617-4808-c86c-8db23f402d2f"
      },
      "execution_count": null,
      "outputs": [
        {
          "output_type": "stream",
          "name": "stdout",
          "text": [
            "Number of times 'My' occured in string_new: 2\n"
          ]
        }
      ]
    },
    {
      "cell_type": "code",
      "source": [
        "# Converting letters to upper and lower case\n",
        "\n",
        "string1_lower = string1.lower()                                         # lower() converts all the letters of string to small case letters\n",
        "print(string1_lower)\n",
        "\n",
        "string1_lower = string1.upper()                                         # upper() converts all the letters of string to upper case letters\n",
        "print(string1_lower)\n",
        "\n",
        "string1_capital = string1_lower.capitalize()                            # capitalize() capitalize the first letter of string and rest all are small letters\n",
        "print(string1_capital)"
      ],
      "metadata": {
        "colab": {
          "base_uri": "https://localhost:8080/"
        },
        "id": "6lZEHksruTEH",
        "outputId": "5aa71c5d-51e0-4372-d5bf-43caebeafa4f"
      },
      "execution_count": null,
      "outputs": [
        {
          "output_type": "stream",
          "name": "stdout",
          "text": [
            "my name is muskan.\n",
            "MY NAME IS MUSKAN.\n",
            "My name is muskan.\n"
          ]
        }
      ]
    },
    {
      "cell_type": "markdown",
      "source": [
        "**Lists**\n",
        "\n",
        "Lists are just like dynamically sized arrays. A list can be defined as a collection of items of different types. Lists are mutable, iterable, indexable.  "
      ],
      "metadata": {
        "id": "KKNzi4Bu33Od"
      }
    },
    {
      "cell_type": "code",
      "source": [
        "List = ['Muskan', 10, 18.05, 'Mulyan', [2, 4, 6]]        # List can contain any data type\n",
        "\n",
        "print(List[3])\n",
        "\n",
        "# Multi-dimensional list\n",
        "\n",
        "new = [[1, 'row'], [2, 'row'], [3, 'row']]\n",
        "print(new[2][1])"
      ],
      "metadata": {
        "colab": {
          "base_uri": "https://localhost:8080/"
        },
        "id": "xLmitAHn35xj",
        "outputId": "63097959-85f3-4c1b-e301-58f5bae9648a"
      },
      "execution_count": null,
      "outputs": [
        {
          "output_type": "stream",
          "name": "stdout",
          "text": [
            "Mulyan\n",
            "row\n"
          ]
        }
      ]
    },
    {
      "cell_type": "code",
      "source": [
        "# List indexing\n",
        "\n",
        "print( \"Element in list with index 3: \" +  str(List[3]) )\n",
        "print( \"Element in list with index -1: \" +  str(List[-1]) )"
      ],
      "metadata": {
        "colab": {
          "base_uri": "https://localhost:8080/"
        },
        "id": "pUV2gVPMA2OR",
        "outputId": "5bf0ac44-e91b-4cd5-d9eb-8824fa0e576a"
      },
      "execution_count": null,
      "outputs": [
        {
          "output_type": "stream",
          "name": "stdout",
          "text": [
            "Element in list with index 3: Mulyan\n",
            "Element in list with index -1: [2, 4, 6]\n"
          ]
        }
      ]
    },
    {
      "cell_type": "code",
      "source": [
        "# Length of list\n",
        "\n",
        "length_List = len(List)\n",
        "print(\"Lenght of list: \" + str(length_List) )"
      ],
      "metadata": {
        "colab": {
          "base_uri": "https://localhost:8080/"
        },
        "id": "bTGH0DLgTzvx",
        "outputId": "edd62b87-a8b1-49e8-b140-b614c5b90592"
      },
      "execution_count": null,
      "outputs": [
        {
          "output_type": "stream",
          "name": "stdout",
          "text": [
            "Lenght of list: 5\n"
          ]
        }
      ]
    },
    {
      "cell_type": "code",
      "source": [
        "# Add element to list\n",
        "\n",
        "List = ['List', 1, 'created', [1,2,3,4] ]\n",
        "List.append('New_element')                                    # append() is used to add new_element to lsit\n",
        "print(\"Appended List: \" + str(List) )\n",
        "\n",
        "List.extend(['Hello', 1, 2])                                  # extend() is used to add multiple elements to lsit\n",
        "print(\"Extended List: \" + str(List) )\n",
        "\n",
        "List.insert(0, -1)                                            # insert() used to add element to list at specific position/index -> insert(index, element)\n",
        "print(\"List: \" + str(List) )"
      ],
      "metadata": {
        "colab": {
          "base_uri": "https://localhost:8080/"
        },
        "id": "2a7jDrudT5di",
        "outputId": "743fb0f3-237f-4652-f68e-04eeb4d74c9f"
      },
      "execution_count": null,
      "outputs": [
        {
          "output_type": "stream",
          "name": "stdout",
          "text": [
            "Appended List: ['List', 1, 'created', [1, 2, 3, 4], 'New_element']\n",
            "Extended List: ['List', 1, 'created', [1, 2, 3, 4], 'New_element', 'Hello', 1, 2]\n",
            "List: [-1, 'List', 1, 'created', [1, 2, 3, 4], 'New_element', 'Hello', 1, 2]\n"
          ]
        }
      ]
    },
    {
      "cell_type": "code",
      "source": [
        "# List slicing\n",
        "\n",
        "List_slice_begin = List[:3]\n",
        "print( \"Slicing list - Elements from begining till index 2: \" + str(List_slice_begin) )\n",
        "\n",
        "List_slice_end = List[3:]\n",
        "print( \"Slicing list - Elements from index 1 till end: \" + str(List_slice_end) )"
      ],
      "metadata": {
        "colab": {
          "base_uri": "https://localhost:8080/"
        },
        "id": "7JlANBsFnJV7",
        "outputId": "808543c1-1e1a-4ed3-e850-1e3a46b772ee"
      },
      "execution_count": null,
      "outputs": [
        {
          "output_type": "stream",
          "name": "stdout",
          "text": [
            "Slicing list - Elements from begining till index 2: [-1, 'List', 1]\n",
            "Slicing list - Elements from index 1 till end: ['created', [1, 2, 3, 4], 'New_element', 'Hello', 1, 2]\n"
          ]
        }
      ]
    },
    {
      "cell_type": "code",
      "source": [
        "# Deleting element from list\n",
        "\n",
        "List.remove('created')                                    # Removes specified element from list\n",
        "print(\"List after removing 'created': \" + str(List) )\n",
        "\n",
        "List.pop(2)                                                   # Removing element using index\n",
        "print(\"After popping element of index 2: \" + str(List))\n",
        "\n",
        "List.pop()                                                   # If no argument is provided, the last item in the list is removed.\n",
        "print(\"After popping without passing index: \" + str(List))\n",
        "\n",
        "del List[-1]\n",
        "print(\"Deleting using del: \" + str(List))\n",
        "\n",
        "List.clear()                                                  # Deletes whole list\n",
        "print(\"After clearing list: \" + str(List))"
      ],
      "metadata": {
        "colab": {
          "base_uri": "https://localhost:8080/"
        },
        "id": "K2daMHqdnLfW",
        "outputId": "5f2b8c16-1912-4596-c5a6-b19b6207baf8"
      },
      "execution_count": null,
      "outputs": [
        {
          "output_type": "stream",
          "name": "stdout",
          "text": [
            "List after removing 'created': [-1, 'List', 1, [1, 2, 3, 4], 'New_element', 'Hello', 1, 2]\n",
            "After popping element of index 2: [-1, 'List', [1, 2, 3, 4], 'New_element', 'Hello', 1, 2]\n",
            "After popping without passing index: [-1, 'List', [1, 2, 3, 4], 'New_element', 'Hello', 1]\n",
            "Deleting using del: [-1, 'List', [1, 2, 3, 4], 'New_element', 'Hello']\n",
            "After clearing list: []\n"
          ]
        }
      ]
    },
    {
      "cell_type": "markdown",
      "source": [
        "**Tuples**\n",
        "\n",
        "Tuple is an immutable and ordered collection. It can store different data types in one tuple."
      ],
      "metadata": {
        "id": "sZvUhqH6wi8M"
      }
    },
    {
      "cell_type": "code",
      "source": [
        "new = ('Hello', 2, 7.5, (4,3), [3, 9])      # A tuple can have any data type int, float, list and tuple itself\n",
        "\n",
        "# Indexing - starts from 0\n",
        "print(new[4])"
      ],
      "metadata": {
        "colab": {
          "base_uri": "https://localhost:8080/"
        },
        "id": "d9wb15W5uqwH",
        "outputId": "848630fe-b6d5-4433-8485-3b3681e0a4e6"
      },
      "execution_count": null,
      "outputs": [
        {
          "output_type": "stream",
          "name": "stdout",
          "text": [
            "[3, 9]\n"
          ]
        }
      ]
    },
    {
      "cell_type": "code",
      "source": [
        "# Tuples are immutable. Hence, if we try to change some value it will throw error\n",
        "\n",
        "# new[0] = 'NO'"
      ],
      "metadata": {
        "id": "mJUBs3uPz26p"
      },
      "execution_count": null,
      "outputs": []
    },
    {
      "cell_type": "code",
      "source": [
        "# Find length of tuple\n",
        "\n",
        "Tuple_length = len(new)\n",
        "print(\"Tuple length: \" + str(Tuple_length) )"
      ],
      "metadata": {
        "colab": {
          "base_uri": "https://localhost:8080/"
        },
        "id": "EZL1-yh80jeg",
        "outputId": "26e80b3d-bdbf-4a00-9694-8ec752508b6f"
      },
      "execution_count": null,
      "outputs": [
        {
          "output_type": "stream",
          "name": "stdout",
          "text": [
            "Tuple length: 5\n"
          ]
        }
      ]
    },
    {
      "cell_type": "code",
      "source": [
        "# Combining two tuples\n",
        "\n",
        "Tuple = ('Tuples are immutable', 0, 1, 'Right')\n",
        "Tuple1 = (\" Yes\")\n",
        "Tuple_new = Tuple[0] + Tuple1\n",
        "print(\"Combining two tuples: \" + str(Tuple_new) )"
      ],
      "metadata": {
        "colab": {
          "base_uri": "https://localhost:8080/"
        },
        "id": "3KYrsgNx2cdt",
        "outputId": "7f1e485e-2c8e-4752-e438-7f7fbfaf3967"
      },
      "execution_count": null,
      "outputs": [
        {
          "output_type": "stream",
          "name": "stdout",
          "text": [
            "Combining two tuples: Tuples are immutable Yes\n"
          ]
        }
      ]
    },
    {
      "cell_type": "code",
      "source": [
        "# Tuple repeatition\n",
        "\n",
        "Tuple1_repitition = Tuple1*3                                   # Tuple can be twice, thrice,.... using tuple_name followed by * operator\n",
        "print(\"Repeating tuple thrice: \" + str(Tuple1_repitition) )"
      ],
      "metadata": {
        "colab": {
          "base_uri": "https://localhost:8080/"
        },
        "id": "7sl67YTx2ex8",
        "outputId": "c7aa4c4e-4033-4ca6-9d0a-c030c840074c"
      },
      "execution_count": null,
      "outputs": [
        {
          "output_type": "stream",
          "name": "stdout",
          "text": [
            "Repeating tuple thrice:  Yes Yes Yes\n"
          ]
        }
      ]
    },
    {
      "cell_type": "code",
      "source": [
        "# Finding an element in tuple\n",
        "\n",
        "element_presence = 1 in Tuple                                  # x in tuple_name return True/False whether x present in given tuple or not\n",
        "print( \"1 present in Tuple: \" + str(element_presence) )"
      ],
      "metadata": {
        "colab": {
          "base_uri": "https://localhost:8080/"
        },
        "id": "f_Oxi6IP2g3-",
        "outputId": "01aa1bad-6b46-4fc5-bb57-9c24802fc41c"
      },
      "execution_count": null,
      "outputs": [
        {
          "output_type": "stream",
          "name": "stdout",
          "text": [
            "1 present in Tuple: True\n"
          ]
        }
      ]
    },
    {
      "cell_type": "code",
      "source": [
        "# Tuple slicing\n",
        "\n",
        "slicing = Tuple[0][:7]\n",
        "print(\"Sliced tuple: \" + str(slicing))"
      ],
      "metadata": {
        "colab": {
          "base_uri": "https://localhost:8080/"
        },
        "id": "HggqaCpu2jAH",
        "outputId": "f341e85e-740e-4812-ff04-0742925050af"
      },
      "execution_count": null,
      "outputs": [
        {
          "output_type": "stream",
          "name": "stdout",
          "text": [
            "Sliced tuple: Tuples \n"
          ]
        }
      ]
    },
    {
      "cell_type": "markdown",
      "source": [
        "**Sets**\n",
        "\n",
        "Sets are used to store multiple items in a single variable. It is an unordered collection data type that is iterable, mutable and has no duplicate elements."
      ],
      "metadata": {
        "id": "IcDqqEbS2nZq"
      }
    },
    {
      "cell_type": "code",
      "source": [
        "Set1 = set([1, 2, 3, 7, 5, 3, 5, 2, 1, 'a', 'b', 'a'])\n",
        "\n",
        "print(\"Set: \" +  str(Set1) )                         # set contains only unique elements and it is unordered"
      ],
      "metadata": {
        "colab": {
          "base_uri": "https://localhost:8080/"
        },
        "id": "FNjVaaEA2jyG",
        "outputId": "5847a307-c4df-47ae-eb9a-570f598922b8"
      },
      "execution_count": null,
      "outputs": [
        {
          "output_type": "stream",
          "name": "stdout",
          "text": [
            "Set: {1, 2, 3, 5, 7, 'a', 'b'}\n"
          ]
        }
      ]
    },
    {
      "cell_type": "code",
      "source": [
        "# Set is not indexable and hence, it shows errors\n",
        "\n",
        "# Set1[0]"
      ],
      "metadata": {
        "id": "wNUiD3vi5Sag"
      },
      "execution_count": null,
      "outputs": []
    },
    {
      "cell_type": "code",
      "source": [
        "# Adding element to the set\n",
        "\n",
        "Set1.add('c')                                        # adds element 'c' to set\n",
        "print(\"Set after adding 'c': \" +  str(Set1) )\n",
        "\n",
        "Set1.update([2, 8, 'Set'])                           # adding multiple elements to set (duplicates are not repeated)\n",
        "print(\"Set after adding multiple elements: \" +  str(Set1) )"
      ],
      "metadata": {
        "colab": {
          "base_uri": "https://localhost:8080/"
        },
        "id": "egxSMqN03U7X",
        "outputId": "2820f894-0c47-4157-8cab-ab09734655ca"
      },
      "execution_count": null,
      "outputs": [
        {
          "output_type": "stream",
          "name": "stdout",
          "text": [
            "Set after adding 'c': {1, 2, 3, 5, 7, 'a', 'b', 'c'}\n",
            "Set after adding multiple elements: {1, 2, 3, 5, 7, 'a', 'b', 'c', 8, 'Set'}\n"
          ]
        }
      ]
    },
    {
      "cell_type": "code",
      "source": [
        "# Deleting element from set\n",
        "\n",
        "Set1.discard('a')\n",
        "print(\"Set after deleting 'a': \" +  str(Set1) )\n",
        "\n",
        "Set1.remove(3)                                       # removes element from set\n",
        "print(\"Set after removing 3: \" +  str(Set1) )\n",
        "\n",
        "Set1.pop()                                           # Random element removed from set\n",
        "print(\"Removing random element: \" + str(Set1))\n",
        "\n",
        "Set1.clear()                                         # Clears/Deletes the whole set\n",
        "print(\"Set after clear() command: \" + str(Set1))"
      ],
      "metadata": {
        "colab": {
          "base_uri": "https://localhost:8080/"
        },
        "id": "fPJLAi1F4_pR",
        "outputId": "30252df1-ccf8-47ee-d443-ae206e5c8eea"
      },
      "execution_count": null,
      "outputs": [
        {
          "output_type": "stream",
          "name": "stdout",
          "text": [
            "Set after deleting 'a': {1, 2, 3, 5, 7, 'b', 'c', 8, 'Set'}\n",
            "Set after removing 3: {1, 2, 5, 7, 'b', 'c', 8, 'Set'}\n",
            "Removing random element: {2, 5, 7, 'b', 'c', 8, 'Set'}\n",
            "Set after clear() command: set()\n"
          ]
        }
      ]
    },
    {
      "cell_type": "code",
      "source": [
        "# Union of two sets\n",
        "\n",
        "Set1 = set([1, 2, 3, 7, 5, 3, 5, 2, 1, 'a', 'b', 'a'])\n",
        "Set2 = set([10, 12, 'b', 'c'])\n",
        "Set_union = Set1 | Set2                              # Union of two sets using | operator. Also possible using Set1.union(Set2)\n",
        "print(\"Union of two sets: \" + str(Set_union))\n",
        "\n",
        "# Intersection of two sets\n",
        "\n",
        "Set_intersection = Set1 & Set2                       # Intersection of two sets using & operator\n",
        "print(\"Intersection of two sets: \" + str(Set_intersection))"
      ],
      "metadata": {
        "colab": {
          "base_uri": "https://localhost:8080/"
        },
        "id": "HHYryjdm4_ht",
        "outputId": "77671b95-41f3-4c49-f447-3df724860d52"
      },
      "execution_count": null,
      "outputs": [
        {
          "output_type": "stream",
          "name": "stdout",
          "text": [
            "Union of two sets: {1, 2, 3, 5, 7, 'a', 'b', 10, 'c', 12}\n",
            "Intersection of two sets: {'b'}\n"
          ]
        }
      ]
    },
    {
      "cell_type": "markdown",
      "source": [
        "**Dictionary**\n",
        "\n",
        "Dictionaries are used to store data values in key:value pairs unlike other data types which hold only a single value as an element. They key must be unique and it is immutable though value is changeable and can be repeated."
      ],
      "metadata": {
        "id": "COCVeX3V7F6n"
      }
    },
    {
      "cell_type": "code",
      "source": [
        "dic = {0: 'First element', 2: 'Apple', 'one': 'Dictionary', 'three': [1,4,5], '4': 'List can be a dictionary value'}\n",
        "\n",
        "print(dic['one'])                 # dict_name[key] gives the value of key\n",
        "print(dic[2])"
      ],
      "metadata": {
        "colab": {
          "base_uri": "https://localhost:8080/"
        },
        "id": "a02viF_55w9t",
        "outputId": "39c8d4c3-059b-4d0d-cc3f-72c12ad75c8e"
      },
      "execution_count": null,
      "outputs": [
        {
          "output_type": "stream",
          "name": "stdout",
          "text": [
            "Dictionary\n",
            "Apple\n"
          ]
        }
      ]
    },
    {
      "cell_type": "code",
      "source": [
        "# Get keys and values of dictionary\n",
        "\n",
        "dic_keys = dic.keys()                             # Return all keys present in dictionary\n",
        "print(dic_keys)\n",
        "\n",
        "dic_values = dic.values()                         # Returns all values present in dictionary\n",
        "print(dic_values)"
      ],
      "metadata": {
        "colab": {
          "base_uri": "https://localhost:8080/"
        },
        "id": "DhkU2FQktEBc",
        "outputId": "d5714996-da1b-45ea-e9c7-efc5700ec08f"
      },
      "execution_count": null,
      "outputs": [
        {
          "output_type": "stream",
          "name": "stdout",
          "text": [
            "dict_keys([0, 2, 'one', 'three', '4'])\n",
            "dict_values(['First element', 'Apple', 'Dictionary', [1, 4, 5], 'List can be a dictionary value'])\n"
          ]
        }
      ]
    },
    {
      "cell_type": "code",
      "source": [
        "# Add element to dictionary\n",
        "\n",
        "dic2 = {4: 'My dictionary', 5: [ [1,2], [2,4] ]}\n",
        "dic2.update({'key':'last'})\n",
        "print(\"After adding element: \" + str(dic2))\n",
        "\n",
        "dic.update(dic2)                                  # dic2 is added to dic using upadate() command\n",
        "print(\"Merging dic2 to dic: \" + str(dic))"
      ],
      "metadata": {
        "colab": {
          "base_uri": "https://localhost:8080/"
        },
        "id": "F5qE334s1x0j",
        "outputId": "6fa49ecf-c92a-4973-8a47-3a367896d19d"
      },
      "execution_count": null,
      "outputs": [
        {
          "output_type": "stream",
          "name": "stdout",
          "text": [
            "After adding element: {4: 'My dictionary', 5: [[1, 2], [2, 4]], 'key': 'last'}\n",
            "Merging dic2 to dic: {0: 'First element', 2: 'Apple', 'one': 'Dictionary', 'three': [1, 4, 5], '4': 'List can be a dictionary value', 4: 'My dictionary', 5: [[1, 2], [2, 4]], 'key': 'last'}\n"
          ]
        }
      ]
    },
    {
      "cell_type": "code",
      "source": [
        "# Delete items from dictionary\n",
        "\n",
        "val_removed = dic.pop(2)                          # Removes the key-value pair with key=2. Also, it returns the value associated with key which is removed\n",
        "print(\"Removed Value: \" + str(val_removed))\n",
        "print(\"Dictionary: \" + str(dic))\n",
        "\n",
        "val_removed = dic.pop(2, 'Removed')               # Assigns 'removed' value to the key removed\n",
        "print(\"Removed Value: \" + str(val_removed))\n",
        "\n",
        "del dic['one']                                    # If no key passed to dic (i.e. del dic) then whole dictionary is deleted\n",
        "print(\"Removed key 'one': \" + str(dic))\n",
        "\n",
        "dic.popitem()                                     # Removes last key-value pair of dictionary\n",
        "print(\"Dictionary: \" + str(dic))"
      ],
      "metadata": {
        "colab": {
          "base_uri": "https://localhost:8080/"
        },
        "id": "Ew8EZoDguWZj",
        "outputId": "9c38328a-c685-496c-fa8c-bb3fceb1f9ef"
      },
      "execution_count": null,
      "outputs": [
        {
          "output_type": "stream",
          "name": "stdout",
          "text": [
            "Removed Value: Apple\n",
            "Dictionary: {0: 'First element', 'one': 'Dictionary', 'three': [1, 4, 5], '4': 'List can be a dictionary value', 4: 'My dictionary', 5: [[1, 2], [2, 4]], 'key': 'last'}\n",
            "Removed Value: Removed\n",
            "Removed key 'one': {0: 'First element', 'three': [1, 4, 5], '4': 'List can be a dictionary value', 4: 'My dictionary', 5: [[1, 2], [2, 4]], 'key': 'last'}\n",
            "Dictionary: {0: 'First element', 'three': [1, 4, 5], '4': 'List can be a dictionary value', 4: 'My dictionary', 5: [[1, 2], [2, 4]]}\n"
          ]
        }
      ]
    },
    {
      "cell_type": "code",
      "source": [
        "# Check whether given element present or not\n",
        "\n",
        "result = 3 in dic                                 # x in dictionary_name return True/False whether key x present in given dictionary or not\n",
        "print(\"Key=3 present in dictionary 'dic': \" + str(result) )"
      ],
      "metadata": {
        "colab": {
          "base_uri": "https://localhost:8080/"
        },
        "id": "oGREZ_hd2j20",
        "outputId": "0a78cd65-9ff2-4fd7-8254-ca7ee5a8cf50"
      },
      "execution_count": null,
      "outputs": [
        {
          "output_type": "stream",
          "name": "stdout",
          "text": [
            "Key=3 present in dictionary 'dic': False\n"
          ]
        }
      ]
    },
    {
      "cell_type": "markdown",
      "source": [
        "**Boolean**\n",
        "\n",
        "Booleans represent one of two values: True or False. When you compare two values, the expression is evaluated and Python returns the Boolean answer."
      ],
      "metadata": {
        "id": "6ebKG91h239Q"
      }
    },
    {
      "cell_type": "code",
      "source": [
        "# True\n",
        "\n",
        "print(100 > 0)\n",
        "\n",
        "print(True)          # True represents boolean value other strings like true, TRUE, etc. don't\n",
        "#print(true)         This statement will throw error\n",
        "print('True')        # Here True in single quotes represent string\n",
        "\n",
        "print(int(True))"
      ],
      "metadata": {
        "colab": {
          "base_uri": "https://localhost:8080/"
        },
        "id": "2EsaMxYx22_m",
        "outputId": "ea91f35b-59e0-4631-86f8-eb7f9805fa5c"
      },
      "execution_count": null,
      "outputs": [
        {
          "output_type": "stream",
          "name": "stdout",
          "text": [
            "True\n",
            "True\n",
            "True\n",
            "1\n"
          ]
        }
      ]
    },
    {
      "cell_type": "code",
      "source": [
        "# False\n",
        "\n",
        "print(1 == 10)\n",
        "\n",
        "print(False)          # False represents boolean value other strings like false, FALSE, etc. don't\n",
        "#print(false)         This statement will throw error\n",
        "print('False')        # Here False in single quotes represent string\n",
        "\n",
        "print(int(False))"
      ],
      "metadata": {
        "colab": {
          "base_uri": "https://localhost:8080/"
        },
        "id": "3ZD0zolc35sY",
        "outputId": "ded22a58-219e-4c95-e135-6b7e562b858c"
      },
      "execution_count": null,
      "outputs": [
        {
          "output_type": "stream",
          "name": "stdout",
          "text": [
            "False\n",
            "False\n",
            "False\n",
            "0\n"
          ]
        }
      ]
    },
    {
      "cell_type": "markdown",
      "source": [
        "# Input\n",
        "\n",
        "It refers to the value we ask from user. It is by default considered as string in python."
      ],
      "metadata": {
        "id": "LE3HZAIAKgCX"
      }
    },
    {
      "cell_type": "code",
      "source": [
        "x = input()     # input value is assigned to variable x\n",
        "\n",
        "print(type(x))"
      ],
      "metadata": {
        "id": "Kc7dN6cD46TQ",
        "colab": {
          "base_uri": "https://localhost:8080/"
        },
        "outputId": "c0ef7296-f052-4046-b263-59652c3fa859"
      },
      "execution_count": null,
      "outputs": [
        {
          "name": "stdout",
          "output_type": "stream",
          "text": [
            "123\n"
          ]
        },
        {
          "output_type": "execute_result",
          "data": {
            "text/plain": [
              "str"
            ]
          },
          "metadata": {},
          "execution_count": 1
        }
      ]
    },
    {
      "cell_type": "code",
      "source": [
        "# Change the type of input variable to desired one\n",
        "\n",
        "x = int(input())\n",
        "\n",
        "print(type(x))"
      ],
      "metadata": {
        "colab": {
          "base_uri": "https://localhost:8080/"
        },
        "id": "ungbEzdgKqXo",
        "outputId": "482897dd-8e71-4a1c-fcf2-8ccf49248a14"
      },
      "execution_count": null,
      "outputs": [
        {
          "output_type": "stream",
          "name": "stdout",
          "text": [
            "123\n",
            "<class 'int'>\n"
          ]
        }
      ]
    },
    {
      "cell_type": "code",
      "source": [
        "# If you want to display message while input\n",
        "\n",
        "x = input(\"Enter an integer: \")"
      ],
      "metadata": {
        "colab": {
          "base_uri": "https://localhost:8080/"
        },
        "id": "XX63IBh9MRTx",
        "outputId": "8248e084-f48b-45e4-aef9-dc6558c8eefe"
      },
      "execution_count": null,
      "outputs": [
        {
          "name": "stdout",
          "output_type": "stream",
          "text": [
            "Enter an integer: 18\n"
          ]
        }
      ]
    },
    {
      "cell_type": "markdown",
      "source": [
        "# Output\n",
        "\n",
        "Data is printed using print() function. It by default shift the cursor to new line but it can be changed using an arguement end."
      ],
      "metadata": {
        "id": "GWfw6gKTM7bS"
      }
    },
    {
      "cell_type": "code",
      "source": [
        "# Each print statement printed in new line\n",
        "\n",
        "print(\"Hello\")\n",
        "print(\"Welcome all\")"
      ],
      "metadata": {
        "colab": {
          "base_uri": "https://localhost:8080/"
        },
        "id": "J-e--ofBMdpJ",
        "outputId": "a853f19a-bfba-49c7-bd48-25922f7cd204"
      },
      "execution_count": null,
      "outputs": [
        {
          "output_type": "stream",
          "name": "stdout",
          "text": [
            "Hello\n",
            "Welcome all\n"
          ]
        }
      ]
    },
    {
      "cell_type": "code",
      "source": [
        "# Specify the end type of print statement\n",
        "\n",
        "print(\"Hello\", end=\" \")\n",
        "print(\"Welcome all\")"
      ],
      "metadata": {
        "colab": {
          "base_uri": "https://localhost:8080/"
        },
        "id": "Nn37VcdPN0xc",
        "outputId": "427f4afd-e60b-40db-d575-edada4ea949a"
      },
      "execution_count": null,
      "outputs": [
        {
          "output_type": "stream",
          "name": "stdout",
          "text": [
            "Hello Welcome all\n"
          ]
        }
      ]
    },
    {
      "cell_type": "code",
      "source": [
        "# Printing integer and string combined\n",
        "\n",
        "string1 = \"I have\"\n",
        "integer = 1\n",
        "string2 = \"brother\"\n",
        "\n",
        "print(\"Method 1: \")\n",
        "print(string1 + \" \" + str(integer) + \" \" + string2)     # String and integer can be combined by converting integer to string and concatenating them\n",
        "\n",
        "print(\"\\nMethod 2: \")\n",
        "print(f'I have {integer} brother')                     # {name of variable is specified}\n",
        "print(f'{string1} {integer} {string2}')\n",
        "\n",
        "print(\"\\nMethod 3: \")\n",
        "print('I have', integer, 'brother')                     # {name of variable is specified}"
      ],
      "metadata": {
        "colab": {
          "base_uri": "https://localhost:8080/"
        },
        "id": "7U-OpX99NfZs",
        "outputId": "3fe749a5-304e-4360-a614-86b8993c9664"
      },
      "execution_count": null,
      "outputs": [
        {
          "output_type": "stream",
          "name": "stdout",
          "text": [
            "Method 1: \n",
            "I have 1 brother\n",
            "\n",
            "Method 2: \n",
            "I have 1 brother\n",
            "I have 1 brother\n",
            "\n",
            "Method 3: \n",
            "I have 1 brother\n"
          ]
        }
      ]
    },
    {
      "cell_type": "code",
      "source": [
        "# Separator\n",
        "\n",
        "print(string1, integer, string2, sep=\"+\")"
      ],
      "metadata": {
        "colab": {
          "base_uri": "https://localhost:8080/"
        },
        "id": "eTwFWvS9Oo7t",
        "outputId": "3120da31-437f-4601-e087-4cc1275d3f3d"
      },
      "execution_count": null,
      "outputs": [
        {
          "output_type": "stream",
          "name": "stdout",
          "text": [
            "I have+1+brother\n"
          ]
        }
      ]
    },
    {
      "cell_type": "markdown",
      "source": [
        "# Conditional statements\n",
        "\n",
        "These are those statements which are performed when a specific statement is true."
      ],
      "metadata": {
        "id": "GHmxBr-kSYms"
      }
    },
    {
      "cell_type": "code",
      "source": [
        "a = 12\n",
        "b = 21\n",
        "\n",
        "if a > b:\n",
        "  print(a, \"greater than\", b)       # If a is greater than b then this statement is executed\n",
        "else:\n",
        "  print(b, \"greater than\", a)       # If a is not greater than b then this statement is executed"
      ],
      "metadata": {
        "colab": {
          "base_uri": "https://localhost:8080/"
        },
        "id": "lSL94o1LSImI",
        "outputId": "34de97ed-30cb-4c54-adc3-5dc923a64371"
      },
      "execution_count": null,
      "outputs": [
        {
          "output_type": "stream",
          "name": "stdout",
          "text": [
            "21 greater than 12\n"
          ]
        }
      ]
    },
    {
      "cell_type": "code",
      "source": [
        "# For adding multiple condition statements\n",
        "\n",
        "if a > b:\n",
        "  print(a, \"greater than\", b)       # If a is greater than b then this statement is executed\n",
        "elif a < b:\n",
        "  print(b, \"greater than\", a)       # If a is not greater than b then this statement is executed\n",
        "else:\n",
        "  print(b, \"equal to\", a)           # If none of statement is true then else statement is executed"
      ],
      "metadata": {
        "id": "JibcT2PeTVCd"
      },
      "execution_count": null,
      "outputs": []
    },
    {
      "cell_type": "markdown",
      "source": [
        "# Logical operations\n",
        "\n",
        "AND, OR, NOT are three logical operators."
      ],
      "metadata": {
        "id": "EBLAnrvvYurl"
      }
    },
    {
      "cell_type": "code",
      "source": [
        "# AND operator\n",
        "\n",
        "print((10 > 5) and (1 > 2))       # It returns true only when both conditions are true"
      ],
      "metadata": {
        "id": "2yqxhnndYxXA",
        "colab": {
          "base_uri": "https://localhost:8080/"
        },
        "outputId": "c831f0b3-2587-443c-d31a-8c36f56f32bd"
      },
      "execution_count": null,
      "outputs": [
        {
          "output_type": "stream",
          "name": "stdout",
          "text": [
            "False\n"
          ]
        }
      ]
    },
    {
      "cell_type": "code",
      "source": [
        "# OR operator\n",
        "\n",
        "print((10 > 5) or (1 > 2))        # It returns true when atleast one condition is true"
      ],
      "metadata": {
        "colab": {
          "base_uri": "https://localhost:8080/"
        },
        "id": "Pf3O-CWvHwoY",
        "outputId": "4fbc65f8-bb45-442f-a67b-02b7c4e5262b"
      },
      "execution_count": null,
      "outputs": [
        {
          "output_type": "stream",
          "name": "stdout",
          "text": [
            "True\n"
          ]
        }
      ]
    },
    {
      "cell_type": "code",
      "source": [
        "# NOT operator\n",
        "\n",
        "print(not((10 > 5) and (1 > 2)))   # It converts true expression to false and vice-versa"
      ],
      "metadata": {
        "colab": {
          "base_uri": "https://localhost:8080/"
        },
        "id": "C7RXoC3BH_6i",
        "outputId": "11da03a5-83d2-45a8-9cec-1b9ad65544ac"
      },
      "execution_count": null,
      "outputs": [
        {
          "output_type": "stream",
          "name": "stdout",
          "text": [
            "True\n"
          ]
        }
      ]
    },
    {
      "cell_type": "markdown",
      "source": [
        "# Loops\n",
        "\n",
        "We have for loop and while loop in python."
      ],
      "metadata": {
        "id": "zuuYAhLyUs5Q"
      }
    },
    {
      "cell_type": "markdown",
      "source": [
        "**For loop**"
      ],
      "metadata": {
        "id": "Eb7I0CeoVZ2z"
      }
    },
    {
      "cell_type": "code",
      "source": [
        "for i in range(5):              # Loop will be executed 5 times from 0 to 4\n",
        "  print(\"Loop\", i)"
      ],
      "metadata": {
        "colab": {
          "base_uri": "https://localhost:8080/"
        },
        "id": "i1z2BGOjVYJj",
        "outputId": "da91335d-843e-44b0-e4f7-9e8006c6a131"
      },
      "execution_count": null,
      "outputs": [
        {
          "output_type": "stream",
          "name": "stdout",
          "text": [
            "Loop 0\n",
            "Loop 1\n",
            "Loop 2\n",
            "Loop 3\n",
            "Loop 4\n"
          ]
        }
      ]
    },
    {
      "cell_type": "code",
      "source": [
        "for i in range(1,10,2):       # range(start, end, step) -> value of start increase by step in each interation\n",
        "  print(i)"
      ],
      "metadata": {
        "colab": {
          "base_uri": "https://localhost:8080/"
        },
        "id": "so5ESIDJVjZP",
        "outputId": "b88540e7-b32d-4b13-c3eb-b0abc386ab33"
      },
      "execution_count": null,
      "outputs": [
        {
          "output_type": "stream",
          "name": "stdout",
          "text": [
            "1\n",
            "3\n",
            "5\n",
            "7\n",
            "9\n"
          ]
        }
      ]
    },
    {
      "cell_type": "code",
      "source": [
        "for i in range(1,10):       # range(start, end) -> loop goes from start to (end-1)\n",
        "  print(i)"
      ],
      "metadata": {
        "colab": {
          "base_uri": "https://localhost:8080/"
        },
        "id": "piCUv_r7V8KC",
        "outputId": "4e1a84e7-56ca-4771-eeb2-6794e2e5b2fa"
      },
      "execution_count": null,
      "outputs": [
        {
          "output_type": "stream",
          "name": "stdout",
          "text": [
            "1\n",
            "2\n",
            "3\n",
            "4\n",
            "5\n",
            "6\n",
            "7\n",
            "8\n",
            "9\n"
          ]
        }
      ]
    },
    {
      "cell_type": "code",
      "source": [
        "# Iterating on any data type\n",
        "\n",
        "L = ['Hello', 'first', 123, 'last', [2]]\n",
        "\n",
        "for item in L:          # This is the one way to access elements of list you can also do this using index\n",
        "  print(item)\n",
        "\n",
        "# Iterating using index\n",
        "# for i in range(len(L)):\n",
        "#   print(L[i])"
      ],
      "metadata": {
        "colab": {
          "base_uri": "https://localhost:8080/"
        },
        "id": "lcGkr4UpW0uy",
        "outputId": "75e03124-b47e-4af3-f26d-f00575ca6709"
      },
      "execution_count": null,
      "outputs": [
        {
          "output_type": "stream",
          "name": "stdout",
          "text": [
            "Hello\n",
            "first\n",
            "123\n",
            "last\n",
            "[2]\n"
          ]
        }
      ]
    },
    {
      "cell_type": "code",
      "source": [
        "# Iterating over dictionary\n",
        "\n",
        "dic = {1:'first', 3:'wrong', 'last':'not decided'}\n",
        "\n",
        "for key in dic:\n",
        "  print(key, dic[key])"
      ],
      "metadata": {
        "colab": {
          "base_uri": "https://localhost:8080/"
        },
        "id": "u5osb-OVXG4a",
        "outputId": "b48ac47a-94d2-46c5-8e81-d1dfb9edaa4f"
      },
      "execution_count": null,
      "outputs": [
        {
          "output_type": "stream",
          "name": "stdout",
          "text": [
            "1 first\n",
            "3 wrong\n",
            "last not decided\n"
          ]
        }
      ]
    },
    {
      "cell_type": "markdown",
      "source": [
        "**While loop**"
      ],
      "metadata": {
        "id": "ajeuJMMgX6jS"
      }
    },
    {
      "cell_type": "code",
      "source": [
        "# syntax of while loop\n",
        "# while(condition):\n",
        "#   statement\n",
        "#   increment\n",
        "\n",
        "i = 0\n",
        "\n",
        "while(i<5):\n",
        "  print(\"Loop\", i)\n",
        "  i+=1"
      ],
      "metadata": {
        "colab": {
          "base_uri": "https://localhost:8080/"
        },
        "id": "bfs6fQNFXwFD",
        "outputId": "868fc5c6-eab1-4a71-927c-34d8abe55ff3"
      },
      "execution_count": null,
      "outputs": [
        {
          "output_type": "stream",
          "name": "stdout",
          "text": [
            "Loop 0\n",
            "Loop 1\n",
            "Loop 2\n",
            "Loop 3\n",
            "Loop 4\n"
          ]
        }
      ]
    },
    {
      "cell_type": "markdown",
      "source": [
        "**Nested loop**"
      ],
      "metadata": {
        "id": "PEJTksHTYcvp"
      }
    },
    {
      "cell_type": "code",
      "source": [
        "step = 1\n",
        "\n",
        "while(step!=4):\n",
        "\n",
        "  for k in range(step):\n",
        "    print(k,end=\"-\")\n",
        "\n",
        "  print(\"For loop ended\")\n",
        "  step = step + 1"
      ],
      "metadata": {
        "colab": {
          "base_uri": "https://localhost:8080/"
        },
        "id": "UOOT5tCcYQQ1",
        "outputId": "4aba89f8-63b7-43c9-8ede-b2b4bfaaaaf8"
      },
      "execution_count": null,
      "outputs": [
        {
          "output_type": "stream",
          "name": "stdout",
          "text": [
            "0-For loop ended\n",
            "0-1-For loop ended\n",
            "0-1-2-For loop ended\n"
          ]
        }
      ]
    },
    {
      "cell_type": "markdown",
      "source": [
        "# Functions\n",
        "\n",
        "A function is a block of code which only runs when it is called. We can pass data known as parameters or arguements into a function. A function can return data as a result."
      ],
      "metadata": {
        "id": "a4jyUhqTZSuR"
      }
    },
    {
      "cell_type": "code",
      "source": [
        "def function(a:int, b:int) -> int:         # def keyword used to define a function followed by function_name, arguements paased to it and return type\n",
        "  sum = a * b\n",
        "  return sum\n",
        "\n",
        "k = function(2,3)\n",
        "print(k)"
      ],
      "metadata": {
        "id": "W_y3fxfxZAfq",
        "colab": {
          "base_uri": "https://localhost:8080/"
        },
        "outputId": "e63e26b1-6bb3-4664-99cc-01451f9c09f8"
      },
      "execution_count": null,
      "outputs": [
        {
          "output_type": "stream",
          "name": "stdout",
          "text": [
            "6\n"
          ]
        }
      ]
    },
    {
      "cell_type": "code",
      "source": [
        "# It is no compulsory to tell the data type of arguement and specify the return type.\n",
        "# It by default choose the most appropriate data type.\n",
        "\n",
        "def function(a, b):\n",
        "  sum = a + b\n",
        "  return sum\n",
        "\n",
        "k = function('Hey ',\"What's up\")\n",
        "print(k)"
      ],
      "metadata": {
        "colab": {
          "base_uri": "https://localhost:8080/"
        },
        "id": "XnjnheHdMAHZ",
        "outputId": "e739aa3b-e6b1-41be-e3de-b6e575a89120"
      },
      "execution_count": null,
      "outputs": [
        {
          "output_type": "stream",
          "name": "stdout",
          "text": [
            "Hey What's up\n"
          ]
        }
      ]
    }
  ]
}